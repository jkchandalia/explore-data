{
 "cells": [
  {
   "cell_type": "code",
   "execution_count": null,
   "metadata": {},
   "outputs": [],
   "source": [
    "#Load needed packages\n",
    "import pandas as pd \n",
    "from matplotlib import pyplot as plt\n",
    "import numpy as np\n",
    "import datetime\n",
    "import pandas as pd\n",
    "from matplotlib import pyplot as plt\n",
    "import numpy as np\n",
    "from sklearn.feature_selection import SelectKBest, mutual_info_classif, SelectFromModel\n",
    "from sklearn.ensemble import RandomForestClassifier, ExtraTreesClassifier\n",
    "from sklearn.model_selection import RandomizedSearchCV\n",
    "from scipy.stats import entropy\n",
    "import argparse\n",
    "import logging\n",
    "from sklearn.metrics import roc_auc_score\n",
    "\n",
    "\n",
    "logging.basicConfig(format='%(asctime)s %(message)s', datefmt='%m/%d/%Y %I:%M:%S', level=logging.INFO)\n",
    "logger = logging.getLogger('datagravity')\n",
    "\n",
    "\n",
    "import tensorflow as tf\n",
    "import keras\n",
    "from keras.models import Model, load_model\n",
    "from keras.layers import Input, Dense\n",
    "from keras.callbacks import ModelCheckpoint, TensorBoard\n",
    "from keras import regularizers\n",
    "#from ann_visualizer.visualize import ann_viz\n",
    "# \n",
    "from sklearn.preprocessing import  StandardScaler, MinMaxScaler\n",
    "from sklearn.model_selection import train_test_split\n",
    "\n",
    "from IPython.display import display, Math, Latex\n"
   ]
  },
  {
   "cell_type": "code",
   "execution_count": 3,
   "metadata": {},
   "outputs": [],
   "source": [
    "from anomaly_detection import AnomalyDetector"
   ]
  },
  {
   "cell_type": "code",
   "execution_count": 208,
   "metadata": {},
   "outputs": [],
   "source": [
    "#Load data\n",
    "data_path='/Users/jkchandalia/Downloads/eopktosm7ii6taabajbkyeiaai.csv'\n",
    "label_path='/Users/jkchandalia/Downloads/zgnpf5sm7ai6taabajbkyeiaai.csv'\n",
    "output_path='/Users/jkchandalia/Research/data_gravity/'\n",
    "full_data = pd.read_csv('/Users/jkchandalia/Downloads/eopktosm7ii6taabajbkyeiaai.csv')\n",
    "labels = pd.read_csv('/Users/jkchandalia/Downloads/zgnpf5sm7ai6taabajbkyeiaai.csv')"
   ]
  },
  {
   "cell_type": "code",
   "execution_count": 209,
   "metadata": {},
   "outputs": [
    {
     "name": "stderr",
     "output_type": "stream",
     "text": [
      "04/15/2019 01:12:57 Creating instance of class.\n",
      "04/15/2019 01:12:57 Reading in data.\n",
      "04/15/2019 01:13:07 Prepping data.\n"
     ]
    }
   ],
   "source": [
    "logger.info('Creating instance of class.')\n",
    "ad_311 = AnomalyDetector(data_path, label_path, output_path)\n",
    "logger.info('Reading in data.')\n",
    "raw_data = pd.read_csv(ad_311.data_path)\n",
    "labels = pd.read_csv(ad_311.labels_path)\n",
    "logger.info('Prepping data.')\n",
    "full_raw_data = ad_311.prep_311_data(raw_data, labels)\n",
    "\n"
   ]
  },
  {
   "cell_type": "code",
   "execution_count": null,
   "metadata": {},
   "outputs": [],
   "source": [
    "logger.info('Creating training dataset.')\n",
    "X_train, X_test, y_train = ad_311.make_train_test_data(full_raw_data, labels)\n",
    "\n",
    "print(len(X_train))\n",
    "logger.info('Training model.')\n",
    "best_model = ad_311.train_model(X_train, y_train, cv=3)\n",
    "print(best_model)\n",
    "feature_importances = pd.DataFrame(best_model.feature_importances_, index=X_train.columns, columns=['importance']).sort_values('importance', ascending=False)\n",
    "print(feature_importances)\n",
    "predictions = ad_311.make_predictions(best_model, X_train)\n",
    "print(predictions)\n",
    "predictions.to_csv('~/Research/data_gravity/predictions.csv')\n",
    "print(roc_auc_score(y_train, predictions))\n"
   ]
  },
  {
   "cell_type": "code",
   "execution_count": 214,
   "metadata": {},
   "outputs": [
    {
     "data": {
      "text/plain": [
       "0          4\n",
       "1          4\n",
       "2          4\n",
       "3          4\n",
       "4          4\n",
       "5          4\n",
       "6          4\n",
       "7          4\n",
       "8          4\n",
       "9          4\n",
       "10         4\n",
       "11         4\n",
       "12         4\n",
       "13         4\n",
       "14         4\n",
       "15         4\n",
       "16         4\n",
       "17         4\n",
       "18         4\n",
       "19         4\n",
       "20         4\n",
       "21         4\n",
       "22         4\n",
       "23         4\n",
       "24         4\n",
       "25         4\n",
       "26         4\n",
       "27         4\n",
       "28         4\n",
       "29         4\n",
       "          ..\n",
       "4401027    6\n",
       "4401028    6\n",
       "4401029    6\n",
       "4401030    6\n",
       "4401031    6\n",
       "4401032    6\n",
       "4401033    6\n",
       "4401034    6\n",
       "4401035    6\n",
       "4401036    6\n",
       "4401037    6\n",
       "4401038    6\n",
       "4401039    6\n",
       "4401040    6\n",
       "4401041    6\n",
       "4401042    6\n",
       "4401043    6\n",
       "4401044    6\n",
       "4401045    6\n",
       "4401046    6\n",
       "4401047    6\n",
       "4401048    6\n",
       "4401049    6\n",
       "4401050    6\n",
       "4401051    6\n",
       "4401052    6\n",
       "4401053    6\n",
       "4401054    6\n",
       "4401055    6\n",
       "4401056    6\n",
       "Name: day, Length: 4401057, dtype: int64"
      ]
     },
     "execution_count": 214,
     "metadata": {},
     "output_type": "execute_result"
    }
   ],
   "source": [
    "df = full_raw_data\n",
    "df['minutes'] = df.created_date_timestamp.dt.minute+df.hour*60\n",
    "df['day'] = df.created_date_timestamp.dt.dayofweek\n",
    "df.day"
   ]
  },
  {
   "cell_type": "code",
   "execution_count": 7,
   "metadata": {},
   "outputs": [],
   "source": [
    "def expand_categorical_feature(df, raw_feature, cutoff=0.9, num_features=10):\n",
    "    \"\"\"Aggregate categorical data (including null/other) for df[column] with optional cutoffs.\"\"\"\n",
    "    df[raw_feature] = df[raw_feature].fillna('no_' + raw_feature)\n",
    "    df_agg = df.groupby(['date', raw_feature]).agg({raw_feature: 'count'}).apply(list).apply(pd.Series)\n",
    "    df_agg = df_agg.unstack()\n",
    "\n",
    "    feature_sums = df_agg.sum(axis=0).sort_values(ascending=False)\n",
    "    percentile90 = np.where(np.cumsum(feature_sums).values / sum(feature_sums) > cutoff)[0][0] + 1\n",
    "    max_features = min(percentile90, num_features)\n",
    "    cols = list(feature_sums[0:max_features][raw_feature].index)\n",
    "    cols.append('no_' + raw_feature)\n",
    "\n",
    "    #full_raw_data.borough[~full_raw_data.borough.isin(boroughs)]='other'\n",
    "    updated_features = df[raw_feature]\n",
    "    updated_features[~df[raw_feature].isin(cols)] ='other_' + raw_feature\n",
    "    df[raw_feature] = updated_features\n",
    "    \n",
    "    df_feature = pd.get_dummies(df[raw_feature])\n",
    "    df = pd.merge(df, df_feature, right_index=True, left_index=True)\n",
    "    df = df.drop(raw_feature, axis=1)\n",
    "        \n",
    "    return df\n"
   ]
  },
  {
   "cell_type": "code",
   "execution_count": 11,
   "metadata": {},
   "outputs": [
    {
     "name": "stderr",
     "output_type": "stream",
     "text": [
      "04/12/2019 12:38:58 Expanding agency_name\n",
      "/Users/jkchandalia/Research/workspace/venv/vmain/lib/python3.6/site-packages/ipykernel_launcher.py:15: SettingWithCopyWarning: \n",
      "A value is trying to be set on a copy of a slice from a DataFrame\n",
      "\n",
      "See the caveats in the documentation: http://pandas.pydata.org/pandas-docs/stable/indexing.html#indexing-view-versus-copy\n",
      "  from ipykernel import kernelapp as app\n",
      "04/12/2019 12:39:03 Expanding borough\n",
      "04/12/2019 12:39:08 Expanding complaint_type\n",
      "04/12/2019 12:39:13 Expanding descriptor\n",
      "04/12/2019 12:39:19 Expanding location_type\n",
      "04/12/2019 12:39:24 Expanding day\n",
      "/Users/jkchandalia/Research/workspace/venv/vmain/lib/python3.6/site-packages/numpy/lib/arraysetops.py:522: FutureWarning: elementwise comparison failed; returning scalar instead, but in the future will perform elementwise comparison\n",
      "  mask |= (ar1 == a)\n"
     ]
    },
    {
     "name": "stdout",
     "output_type": "stream",
     "text": [
      "Index([                                      'created_date',\n",
      "                                                 'latitude',\n",
      "                                                'longitude',\n",
      "                                             'minutes_open',\n",
      "                                   'created_date_timestamp',\n",
      "                                              'date_string',\n",
      "                                                     'hour',\n",
      "                                              'log_minutes',\n",
      "                                                     'date',\n",
      "                                                      'set',\n",
      "                                                    'chaos',\n",
      "                                                  'minutes',\n",
      "                                  'Department of Buildings',\n",
      "                   'Department of Environmental Protection',\n",
      "                                    'Department of Finance',\n",
      "                  'Department of Health and Mental Hygiene',\n",
      "       'Department of Housing Preservation and Development',\n",
      "                       'Department of Parks and Recreation',\n",
      "                                 'Department of Sanitation',\n",
      "                             'Department of Transportation',\n",
      "                          'New York City Police Department',\n",
      "        'Operations Unit - Department of Homeless Services',\n",
      "                                           'no_agency_name',\n",
      "                                        'other_agency_name',\n",
      "                                                    'BRONX',\n",
      "                                                 'BROOKLYN',\n",
      "                                                'MANHATTAN',\n",
      "                                                   'QUEENS',\n",
      "                                               'no_borough',\n",
      "                                            'other_borough',\n",
      "                                         'Blocked Driveway',\n",
      "                                           'HEAT/HOT WATER',\n",
      "                                          'Illegal Parking',\n",
      "                                                    'Noise',\n",
      "                                      'Noise - Residential',\n",
      "                                  'Noise - Street/Sidewalk',\n",
      "                                            'PAINT/PLASTER',\n",
      "                                         'Street Condition',\n",
      "                                     'UNSANITARY CONDITION',\n",
      "                                             'Water System',\n",
      "                                        'no_complaint_type',\n",
      "                                     'other_complaint_type',\n",
      "                                           'APARTMENT ONLY',\n",
      "                                         'Banging/Pounding',\n",
      "                                          'ENTIRE BUILDING',\n",
      "                                         'Loud Music/Party',\n",
      "                                             'Loud Talking',\n",
      "                                                'No Access',\n",
      "                                                    'PESTS',\n",
      "                            'Posted Parking Sign Violation',\n",
      "                                                  'Pothole',\n",
      "                                            'no_descriptor',\n",
      "                                         'other_descriptor',\n",
      "                                     'RESIDENTIAL BUILDING',\n",
      "                               'Residential Building/House',\n",
      "                                                 'Sidewalk',\n",
      "                                         'Store/Commercial',\n",
      "                                                   'Street',\n",
      "                                          'Street/Sidewalk',\n",
      "                                         'no_location_type',\n",
      "                                      'other_location_type',\n",
      "                                                          0,\n",
      "                                                          1,\n",
      "                                                          2,\n",
      "                                                          3,\n",
      "                                                          4,\n",
      "                                                          5,\n",
      "                                                          6],\n",
      "      dtype='object')\n"
     ]
    }
   ],
   "source": [
    "raw_categorical_features = ['agency_name', 'borough', 'complaint_type', 'descriptor', 'location_type', 'day']\n",
    "df_expand = df\n",
    "for raw_feature in raw_categorical_features:\n",
    "    logger.info('Expanding ' + raw_feature)\n",
    "    df_expand = expand_categorical_feature(df_expand, raw_feature)\n",
    "print(df.columns)"
   ]
  },
  {
   "cell_type": "code",
   "execution_count": 141,
   "metadata": {},
   "outputs": [],
   "source": [
    "df_pared = df.drop(['created_date','minutes_open','date_string','set','hour'],axis=1)\n",
    "\n",
    "df_train = df_pared.dropna(subset=['chaos'])\n",
    "df_test = df_pared.loc[df_pared.chaos.isnull(), :].reset_index(drop=True)\n",
    "validation_timestamp = pd.Timestamp('2016-10-15T12')\n",
    "#df_validation= df_train.loc[df_train.created_date_timestamp>validation_timestamp,:].reset_index(drop=True)\n",
    "#df_train = df_train.loc[df_train.created_date_timestamp<=validation_timestamp,:]\n",
    "\n",
    "y_train = df_train.chaos\n",
    "X_train = df_train.fillna(0).drop(['chaos', 'date', 'created_date_timestamp'], axis=1)\n",
    "\n",
    "#y_validation = df_validation.chaos\n",
    "#X_validation = df_validation.fillna(0).drop(['chaos', 'created_date_timestamp'], axis=1)\n",
    "\n",
    "y_test = df_test.chaos\n",
    "X_test = df_test.fillna(0).drop(['chaos', 'date', 'created_date_timestamp'], axis=1)\n",
    "\n",
    "X_autoencoder = X_train.loc[y_train==False,:]\n",
    "#X_test = df_test.fillna(0)[feature_cols]\n",
    "#y_train =df_train.chaos.tolist()\n",
    "\n",
    "#print('Training data size   :', X_train.shape)\n",
    "#print('Validation data size :', X_test.shape)\n",
    "\n"
   ]
  },
  {
   "cell_type": "code",
   "execution_count": 142,
   "metadata": {},
   "outputs": [
    {
     "name": "stderr",
     "output_type": "stream",
     "text": [
      "/Users/jkchandalia/Research/workspace/venv/vmain/lib/python3.6/site-packages/sklearn/preprocessing/data.py:323: DataConversionWarning: Data with input dtype uint8, int64, float64 were all converted to float64 by MinMaxScaler.\n",
      "  return self.partial_fit(X, y)\n"
     ]
    }
   ],
   "source": [
    "scaler = MinMaxScaler()\n",
    "X_autoencoder_scaled = scaler.fit_transform(X_autoencoder)\n",
    "X_train_scaled = scaler.transform(X_train)\n",
    "X_test_scaled  = scaler.transform(X_test)"
   ]
  },
  {
   "cell_type": "code",
   "execution_count": 143,
   "metadata": {},
   "outputs": [
    {
     "data": {
      "text/plain": [
       "Index([                                          'latitude',\n",
       "                                                'longitude',\n",
       "                                              'log_minutes',\n",
       "                                                  'minutes',\n",
       "                                  'Department of Buildings',\n",
       "                   'Department of Environmental Protection',\n",
       "                                    'Department of Finance',\n",
       "                  'Department of Health and Mental Hygiene',\n",
       "       'Department of Housing Preservation and Development',\n",
       "                       'Department of Parks and Recreation',\n",
       "                                 'Department of Sanitation',\n",
       "                             'Department of Transportation',\n",
       "                          'New York City Police Department',\n",
       "        'Operations Unit - Department of Homeless Services',\n",
       "                                           'no_agency_name',\n",
       "                                        'other_agency_name',\n",
       "                                                    'BRONX',\n",
       "                                                 'BROOKLYN',\n",
       "                                                'MANHATTAN',\n",
       "                                                   'QUEENS',\n",
       "                                               'no_borough',\n",
       "                                            'other_borough',\n",
       "                                         'Blocked Driveway',\n",
       "                                           'HEAT/HOT WATER',\n",
       "                                          'Illegal Parking',\n",
       "                                                    'Noise',\n",
       "                                      'Noise - Residential',\n",
       "                                  'Noise - Street/Sidewalk',\n",
       "                                            'PAINT/PLASTER',\n",
       "                                         'Street Condition',\n",
       "                                     'UNSANITARY CONDITION',\n",
       "                                             'Water System',\n",
       "                                        'no_complaint_type',\n",
       "                                     'other_complaint_type',\n",
       "                                           'APARTMENT ONLY',\n",
       "                                         'Banging/Pounding',\n",
       "                                          'ENTIRE BUILDING',\n",
       "                                         'Loud Music/Party',\n",
       "                                             'Loud Talking',\n",
       "                                                'No Access',\n",
       "                                                    'PESTS',\n",
       "                            'Posted Parking Sign Violation',\n",
       "                                                  'Pothole',\n",
       "                                            'no_descriptor',\n",
       "                                         'other_descriptor',\n",
       "                                     'RESIDENTIAL BUILDING',\n",
       "                               'Residential Building/House',\n",
       "                                                 'Sidewalk',\n",
       "                                         'Store/Commercial',\n",
       "                                                   'Street',\n",
       "                                          'Street/Sidewalk',\n",
       "                                         'no_location_type',\n",
       "                                      'other_location_type',\n",
       "                                                          0,\n",
       "                                                          1,\n",
       "                                                          2,\n",
       "                                                          3,\n",
       "                                                          4,\n",
       "                                                          5,\n",
       "                                                          6],\n",
       "      dtype='object')"
      ]
     },
     "execution_count": 143,
     "metadata": {},
     "output_type": "execute_result"
    }
   ],
   "source": [
    "X_autoencoder.columns"
   ]
  },
  {
   "cell_type": "code",
   "execution_count": 86,
   "metadata": {},
   "outputs": [
    {
     "name": "stdout",
     "output_type": "stream",
     "text": [
      "_________________________________________________________________\n",
      "Layer (type)                 Output Shape              Param #   \n",
      "=================================================================\n",
      "input_5 (InputLayer)         (None, 60)                0         \n",
      "_________________________________________________________________\n",
      "dense_41 (Dense)             (None, 48)                2928      \n",
      "_________________________________________________________________\n",
      "dense_42 (Dense)             (None, 40)                1960      \n",
      "_________________________________________________________________\n",
      "dense_43 (Dense)             (None, 32)                1312      \n",
      "_________________________________________________________________\n",
      "dense_44 (Dense)             (None, 24)                792       \n",
      "_________________________________________________________________\n",
      "dense_45 (Dense)             (None, 16)                400       \n",
      "_________________________________________________________________\n",
      "dense_46 (Dense)             (None, 24)                408       \n",
      "_________________________________________________________________\n",
      "dense_47 (Dense)             (None, 32)                800       \n",
      "_________________________________________________________________\n",
      "dense_48 (Dense)             (None, 40)                1320      \n",
      "_________________________________________________________________\n",
      "dense_49 (Dense)             (None, 48)                1968      \n",
      "_________________________________________________________________\n",
      "dense_50 (Dense)             (None, 48)                2352      \n",
      "_________________________________________________________________\n",
      "dense_51 (Dense)             (None, 60)                2940      \n",
      "=================================================================\n",
      "Total params: 17,180\n",
      "Trainable params: 17,180\n",
      "Non-trainable params: 0\n",
      "_________________________________________________________________\n"
     ]
    }
   ],
   "source": [
    "# No of Neurons in each Layer [9,6,3,2,3,6,9]\n",
    "input_dim = X_autoencoder.shape[1]\n",
    "encoding_dim = 48\n",
    "\n",
    "input_layer = Input(shape=(input_dim, ))\n",
    "encoder = Dense(encoding_dim, activation=\"relu\")(input_layer) #,activity_regularizer=regularizers.l1(10e-5))(input_layer)\n",
    "encoder = Dense(int(40), activation=\"relu\")(encoder)\n",
    "encoder = Dense(int(32), activation=\"relu\")(encoder)\n",
    "encoder = Dense(int(24), activation=\"relu\")(encoder)\n",
    "encoder = Dense(int(16), activation=\"relu\")(encoder)\n",
    "decoder = Dense(int(24), activation='relu')(encoder)\n",
    "decoder = Dense(int(32), activation='relu')(decoder)\n",
    "decoder = Dense(int(40), activation='relu')(decoder)\n",
    "decoder = Dense(int(48), activation='relu')(decoder)\n",
    "decoder = Dense(int(encoding_dim), activation='relu')(decoder)\n",
    "decoder = Dense(input_dim, activation='tanh')(decoder)\n",
    "autoencoder = Model(inputs=input_layer, outputs=decoder)\n",
    "autoencoder.summary()"
   ]
  },
  {
   "cell_type": "code",
   "execution_count": 147,
   "metadata": {},
   "outputs": [
    {
     "name": "stdout",
     "output_type": "stream",
     "text": [
      "Time to run the model: 8833.208351 Sec.\n"
     ]
    }
   ],
   "source": [
    "nb_epoch = 250\n",
    "batch_size = 50\n",
    "#sgd = optimizers.SGD(lr=0.01, decay=1e-6, momentum=0.9, nesterov=True)\n",
    "adam = keras.optimizers.Adam(lr=0.0001, beta_1=0.9, beta_2=0.999, epsilon=None, decay=0.0, amsgrad=False)\n",
    "#model.compile(loss='mean_squared_error', optimizer=sgd)\n",
    "\n",
    "autoencoder.compile(optimizer=adam, loss='mse' )\n",
    "\n",
    "t_ini = datetime.datetime.now()\n",
    "history = autoencoder.fit(X_autoencoder_scaled, X_autoencoder_scaled,\n",
    "                        epochs=nb_epoch,\n",
    "                        batch_size=batch_size,\n",
    "                        shuffle=True,\n",
    "                        validation_split=0.2,\n",
    "                        verbose=0\n",
    "                        )\n",
    "\n",
    "t_fin = datetime.datetime.now()\n",
    "print('Time to run the model: {} Sec.'.format((t_fin - t_ini).total_seconds()))\n",
    "\n",
    "\n",
    "\n",
    "df_history = pd.DataFrame(history.history)\n"
   ]
  },
  {
   "cell_type": "code",
   "execution_count": 150,
   "metadata": {},
   "outputs": [],
   "source": [
    "autoencoder.save('/Users/jkchandalia/Research/workspace/anomalydetection/autoencoder_correctdata')\n"
   ]
  },
  {
   "cell_type": "code",
   "execution_count": null,
   "metadata": {},
   "outputs": [],
   "source": []
  },
  {
   "cell_type": "code",
   "execution_count": 149,
   "metadata": {},
   "outputs": [
    {
     "data": {
      "text/plain": [
       "[<matplotlib.lines.Line2D at 0x1d23fd2b0>]"
      ]
     },
     "execution_count": 149,
     "metadata": {},
     "output_type": "execute_result"
    },
    {
     "data": {
      "image/png": "[encoded data removed]",
      "text/plain": [
       "<Figure size 432x288 with 1 Axes>"
      ]
     },
     "metadata": {
      "needs_background": "light"
     },
     "output_type": "display_data"
    }
   ],
   "source": [
    "plt.plot(df_history.val_loss, 'r-')\n",
    "plt.plot(df_history.loss, 'b-')\n"
   ]
  },
  {
   "cell_type": "code",
   "execution_count": 109,
   "metadata": {},
   "outputs": [
    {
     "name": "stdout",
     "output_type": "stream",
     "text": [
      "Time to run the model: 4672.174758 Sec.\n"
     ]
    }
   ],
   "source": [
    "#Load partly trained model\n",
    "from keras.models import load_model\n",
    "model = load_model('/Users/jkchandalia/Research/workspace/anomalydetection/autoencoder_bigger')\n",
    "\n",
    "#Continue training\n",
    "#model.fit(second_training, second_classes, batch_size=32, nb_epoch=20)\n",
    "\n",
    "\n",
    "nb_epoch = 100\n",
    "batch_size = 50\n",
    "#sgd = optimizers.SGD(lr=0.01, decay=1e-6, momentum=0.9, nesterov=True)\n",
    "adam = keras.optimizers.Adam(lr=0.0001, beta_1=0.9, beta_2=0.999, epsilon=None, decay=0.0, amsgrad=False)\n",
    "#model.compile(loss='mean_squared_error', optimizer=sgd)\n",
    "\n",
    "#autoencoder.compile(optimizer=adam, loss='mse' )\n",
    "\n",
    "t_ini = datetime.datetime.now()\n",
    "history = model.fit(X_train_scaled, X_train_scaled,\n",
    "                        epochs=nb_epoch,\n",
    "                        batch_size=batch_size,\n",
    "                        shuffle=True,\n",
    "                        validation_split=0.2,\n",
    "                        verbose=0\n",
    "                        )\n",
    "\n",
    "t_fin = datetime.datetime.now()\n",
    "print('Time to run the model: {} Sec.'.format((t_fin - t_ini).total_seconds()))\n",
    "\n",
    "\n",
    "\n",
    "df_history = pd.DataFrame(history.history)\n"
   ]
  },
  {
   "cell_type": "code",
   "execution_count": 110,
   "metadata": {},
   "outputs": [
    {
     "data": {
      "text/plain": [
       "[<matplotlib.lines.Line2D at 0x14981ff28>]"
      ]
     },
     "execution_count": 110,
     "metadata": {},
     "output_type": "execute_result"
    },
    {
     "data": {
      "image/png": "[encoded data removed]",
      "text/plain": [
       "<Figure size 432x288 with 1 Axes>"
      ]
     },
     "metadata": {
      "needs_background": "light"
     },
     "output_type": "display_data"
    }
   ],
   "source": [
    "plt.plot(df_history.val_loss, 'r-')\n",
    "plt.plot(df_history.loss, 'b-')\n"
   ]
  },
  {
   "cell_type": "code",
   "execution_count": 113,
   "metadata": {},
   "outputs": [],
   "source": [
    "model.save('/Users/jkchandalia/Research/workspace/anomalydetection/autoencoder_bigger2')\n"
   ]
  },
  {
   "cell_type": "code",
   "execution_count": 152,
   "metadata": {},
   "outputs": [
    {
     "data": {
      "text/html": [
       "<div>\n",
       "<style scoped>\n",
       "    .dataframe tbody tr th:only-of-type {\n",
       "        vertical-align: middle;\n",
       "    }\n",
       "\n",
       "    .dataframe tbody tr th {\n",
       "        vertical-align: top;\n",
       "    }\n",
       "\n",
       "    .dataframe thead th {\n",
       "        text-align: right;\n",
       "    }\n",
       "</style>\n",
       "<table border=\"1\" class=\"dataframe\">\n",
       "  <thead>\n",
       "    <tr style=\"text-align: right;\">\n",
       "      <th></th>\n",
       "      <th>val_loss</th>\n",
       "      <th>loss</th>\n",
       "    </tr>\n",
       "  </thead>\n",
       "  <tbody>\n",
       "    <tr>\n",
       "      <th>0</th>\n",
       "      <td>0.001091</td>\n",
       "      <td>0.001132</td>\n",
       "    </tr>\n",
       "    <tr>\n",
       "      <th>1</th>\n",
       "      <td>0.001291</td>\n",
       "      <td>0.001127</td>\n",
       "    </tr>\n",
       "    <tr>\n",
       "      <th>2</th>\n",
       "      <td>0.001085</td>\n",
       "      <td>0.001124</td>\n",
       "    </tr>\n",
       "    <tr>\n",
       "      <th>3</th>\n",
       "      <td>0.000989</td>\n",
       "      <td>0.001120</td>\n",
       "    </tr>\n",
       "    <tr>\n",
       "      <th>4</th>\n",
       "      <td>0.001088</td>\n",
       "      <td>0.001117</td>\n",
       "    </tr>\n",
       "    <tr>\n",
       "      <th>5</th>\n",
       "      <td>0.001061</td>\n",
       "      <td>0.001111</td>\n",
       "    </tr>\n",
       "    <tr>\n",
       "      <th>6</th>\n",
       "      <td>0.001046</td>\n",
       "      <td>0.001109</td>\n",
       "    </tr>\n",
       "    <tr>\n",
       "      <th>7</th>\n",
       "      <td>0.001062</td>\n",
       "      <td>0.001107</td>\n",
       "    </tr>\n",
       "    <tr>\n",
       "      <th>8</th>\n",
       "      <td>0.001029</td>\n",
       "      <td>0.001102</td>\n",
       "    </tr>\n",
       "    <tr>\n",
       "      <th>9</th>\n",
       "      <td>0.001019</td>\n",
       "      <td>0.001103</td>\n",
       "    </tr>\n",
       "    <tr>\n",
       "      <th>10</th>\n",
       "      <td>0.001208</td>\n",
       "      <td>0.001096</td>\n",
       "    </tr>\n",
       "    <tr>\n",
       "      <th>11</th>\n",
       "      <td>0.001056</td>\n",
       "      <td>0.001092</td>\n",
       "    </tr>\n",
       "    <tr>\n",
       "      <th>12</th>\n",
       "      <td>0.001234</td>\n",
       "      <td>0.001091</td>\n",
       "    </tr>\n",
       "    <tr>\n",
       "      <th>13</th>\n",
       "      <td>0.000998</td>\n",
       "      <td>0.001087</td>\n",
       "    </tr>\n",
       "    <tr>\n",
       "      <th>14</th>\n",
       "      <td>0.001055</td>\n",
       "      <td>0.001083</td>\n",
       "    </tr>\n",
       "    <tr>\n",
       "      <th>15</th>\n",
       "      <td>0.001065</td>\n",
       "      <td>0.001078</td>\n",
       "    </tr>\n",
       "    <tr>\n",
       "      <th>16</th>\n",
       "      <td>0.001130</td>\n",
       "      <td>0.001078</td>\n",
       "    </tr>\n",
       "    <tr>\n",
       "      <th>17</th>\n",
       "      <td>0.001138</td>\n",
       "      <td>0.001075</td>\n",
       "    </tr>\n",
       "    <tr>\n",
       "      <th>18</th>\n",
       "      <td>0.001043</td>\n",
       "      <td>0.001070</td>\n",
       "    </tr>\n",
       "    <tr>\n",
       "      <th>19</th>\n",
       "      <td>0.001034</td>\n",
       "      <td>0.001067</td>\n",
       "    </tr>\n",
       "    <tr>\n",
       "      <th>20</th>\n",
       "      <td>0.001108</td>\n",
       "      <td>0.001068</td>\n",
       "    </tr>\n",
       "    <tr>\n",
       "      <th>21</th>\n",
       "      <td>0.001334</td>\n",
       "      <td>0.001064</td>\n",
       "    </tr>\n",
       "    <tr>\n",
       "      <th>22</th>\n",
       "      <td>0.001024</td>\n",
       "      <td>0.001062</td>\n",
       "    </tr>\n",
       "    <tr>\n",
       "      <th>23</th>\n",
       "      <td>0.001097</td>\n",
       "      <td>0.001061</td>\n",
       "    </tr>\n",
       "    <tr>\n",
       "      <th>24</th>\n",
       "      <td>0.001046</td>\n",
       "      <td>0.001059</td>\n",
       "    </tr>\n",
       "    <tr>\n",
       "      <th>25</th>\n",
       "      <td>0.001111</td>\n",
       "      <td>0.001058</td>\n",
       "    </tr>\n",
       "    <tr>\n",
       "      <th>26</th>\n",
       "      <td>0.001061</td>\n",
       "      <td>0.001055</td>\n",
       "    </tr>\n",
       "    <tr>\n",
       "      <th>27</th>\n",
       "      <td>0.001018</td>\n",
       "      <td>0.001052</td>\n",
       "    </tr>\n",
       "    <tr>\n",
       "      <th>28</th>\n",
       "      <td>0.000964</td>\n",
       "      <td>0.001051</td>\n",
       "    </tr>\n",
       "    <tr>\n",
       "      <th>29</th>\n",
       "      <td>0.001117</td>\n",
       "      <td>0.001049</td>\n",
       "    </tr>\n",
       "    <tr>\n",
       "      <th>...</th>\n",
       "      <td>...</td>\n",
       "      <td>...</td>\n",
       "    </tr>\n",
       "    <tr>\n",
       "      <th>220</th>\n",
       "      <td>0.000913</td>\n",
       "      <td>0.000884</td>\n",
       "    </tr>\n",
       "    <tr>\n",
       "      <th>221</th>\n",
       "      <td>0.000832</td>\n",
       "      <td>0.000884</td>\n",
       "    </tr>\n",
       "    <tr>\n",
       "      <th>222</th>\n",
       "      <td>0.000875</td>\n",
       "      <td>0.000883</td>\n",
       "    </tr>\n",
       "    <tr>\n",
       "      <th>223</th>\n",
       "      <td>0.000839</td>\n",
       "      <td>0.000879</td>\n",
       "    </tr>\n",
       "    <tr>\n",
       "      <th>224</th>\n",
       "      <td>0.000915</td>\n",
       "      <td>0.000880</td>\n",
       "    </tr>\n",
       "    <tr>\n",
       "      <th>225</th>\n",
       "      <td>0.000839</td>\n",
       "      <td>0.000879</td>\n",
       "    </tr>\n",
       "    <tr>\n",
       "      <th>226</th>\n",
       "      <td>0.000880</td>\n",
       "      <td>0.000879</td>\n",
       "    </tr>\n",
       "    <tr>\n",
       "      <th>227</th>\n",
       "      <td>0.000843</td>\n",
       "      <td>0.000879</td>\n",
       "    </tr>\n",
       "    <tr>\n",
       "      <th>228</th>\n",
       "      <td>0.000784</td>\n",
       "      <td>0.000878</td>\n",
       "    </tr>\n",
       "    <tr>\n",
       "      <th>229</th>\n",
       "      <td>0.000847</td>\n",
       "      <td>0.000875</td>\n",
       "    </tr>\n",
       "    <tr>\n",
       "      <th>230</th>\n",
       "      <td>0.000918</td>\n",
       "      <td>0.000877</td>\n",
       "    </tr>\n",
       "    <tr>\n",
       "      <th>231</th>\n",
       "      <td>0.000792</td>\n",
       "      <td>0.000876</td>\n",
       "    </tr>\n",
       "    <tr>\n",
       "      <th>232</th>\n",
       "      <td>0.000884</td>\n",
       "      <td>0.000875</td>\n",
       "    </tr>\n",
       "    <tr>\n",
       "      <th>233</th>\n",
       "      <td>0.000794</td>\n",
       "      <td>0.000872</td>\n",
       "    </tr>\n",
       "    <tr>\n",
       "      <th>234</th>\n",
       "      <td>0.000929</td>\n",
       "      <td>0.000872</td>\n",
       "    </tr>\n",
       "    <tr>\n",
       "      <th>235</th>\n",
       "      <td>0.000859</td>\n",
       "      <td>0.000871</td>\n",
       "    </tr>\n",
       "    <tr>\n",
       "      <th>236</th>\n",
       "      <td>0.000801</td>\n",
       "      <td>0.000875</td>\n",
       "    </tr>\n",
       "    <tr>\n",
       "      <th>237</th>\n",
       "      <td>0.000939</td>\n",
       "      <td>0.000872</td>\n",
       "    </tr>\n",
       "    <tr>\n",
       "      <th>238</th>\n",
       "      <td>0.000867</td>\n",
       "      <td>0.000871</td>\n",
       "    </tr>\n",
       "    <tr>\n",
       "      <th>239</th>\n",
       "      <td>0.001058</td>\n",
       "      <td>0.000867</td>\n",
       "    </tr>\n",
       "    <tr>\n",
       "      <th>240</th>\n",
       "      <td>0.000993</td>\n",
       "      <td>0.000867</td>\n",
       "    </tr>\n",
       "    <tr>\n",
       "      <th>241</th>\n",
       "      <td>0.000875</td>\n",
       "      <td>0.000872</td>\n",
       "    </tr>\n",
       "    <tr>\n",
       "      <th>242</th>\n",
       "      <td>0.000821</td>\n",
       "      <td>0.000866</td>\n",
       "    </tr>\n",
       "    <tr>\n",
       "      <th>243</th>\n",
       "      <td>0.000854</td>\n",
       "      <td>0.000866</td>\n",
       "    </tr>\n",
       "    <tr>\n",
       "      <th>244</th>\n",
       "      <td>0.000816</td>\n",
       "      <td>0.000866</td>\n",
       "    </tr>\n",
       "    <tr>\n",
       "      <th>245</th>\n",
       "      <td>0.000818</td>\n",
       "      <td>0.000863</td>\n",
       "    </tr>\n",
       "    <tr>\n",
       "      <th>246</th>\n",
       "      <td>0.001073</td>\n",
       "      <td>0.000863</td>\n",
       "    </tr>\n",
       "    <tr>\n",
       "      <th>247</th>\n",
       "      <td>0.000808</td>\n",
       "      <td>0.000864</td>\n",
       "    </tr>\n",
       "    <tr>\n",
       "      <th>248</th>\n",
       "      <td>0.000839</td>\n",
       "      <td>0.000862</td>\n",
       "    </tr>\n",
       "    <tr>\n",
       "      <th>249</th>\n",
       "      <td>0.000804</td>\n",
       "      <td>0.000862</td>\n",
       "    </tr>\n",
       "  </tbody>\n",
       "</table>\n",
       "<p>250 rows × 2 columns</p>\n",
       "</div>"
      ],
      "text/plain": [
       "     val_loss      loss\n",
       "0    0.001091  0.001132\n",
       "1    0.001291  0.001127\n",
       "2    0.001085  0.001124\n",
       "3    0.000989  0.001120\n",
       "4    0.001088  0.001117\n",
       "5    0.001061  0.001111\n",
       "6    0.001046  0.001109\n",
       "7    0.001062  0.001107\n",
       "8    0.001029  0.001102\n",
       "9    0.001019  0.001103\n",
       "10   0.001208  0.001096\n",
       "11   0.001056  0.001092\n",
       "12   0.001234  0.001091\n",
       "13   0.000998  0.001087\n",
       "14   0.001055  0.001083\n",
       "15   0.001065  0.001078\n",
       "16   0.001130  0.001078\n",
       "17   0.001138  0.001075\n",
       "18   0.001043  0.001070\n",
       "19   0.001034  0.001067\n",
       "20   0.001108  0.001068\n",
       "21   0.001334  0.001064\n",
       "22   0.001024  0.001062\n",
       "23   0.001097  0.001061\n",
       "24   0.001046  0.001059\n",
       "25   0.001111  0.001058\n",
       "26   0.001061  0.001055\n",
       "27   0.001018  0.001052\n",
       "28   0.000964  0.001051\n",
       "29   0.001117  0.001049\n",
       "..        ...       ...\n",
       "220  0.000913  0.000884\n",
       "221  0.000832  0.000884\n",
       "222  0.000875  0.000883\n",
       "223  0.000839  0.000879\n",
       "224  0.000915  0.000880\n",
       "225  0.000839  0.000879\n",
       "226  0.000880  0.000879\n",
       "227  0.000843  0.000879\n",
       "228  0.000784  0.000878\n",
       "229  0.000847  0.000875\n",
       "230  0.000918  0.000877\n",
       "231  0.000792  0.000876\n",
       "232  0.000884  0.000875\n",
       "233  0.000794  0.000872\n",
       "234  0.000929  0.000872\n",
       "235  0.000859  0.000871\n",
       "236  0.000801  0.000875\n",
       "237  0.000939  0.000872\n",
       "238  0.000867  0.000871\n",
       "239  0.001058  0.000867\n",
       "240  0.000993  0.000867\n",
       "241  0.000875  0.000872\n",
       "242  0.000821  0.000866\n",
       "243  0.000854  0.000866\n",
       "244  0.000816  0.000866\n",
       "245  0.000818  0.000863\n",
       "246  0.001073  0.000863\n",
       "247  0.000808  0.000864\n",
       "248  0.000839  0.000862\n",
       "249  0.000804  0.000862\n",
       "\n",
       "[250 rows x 2 columns]"
      ]
     },
     "execution_count": 152,
     "metadata": {},
     "output_type": "execute_result"
    }
   ],
   "source": [
    "df_history"
   ]
  },
  {
   "cell_type": "code",
   "execution_count": 151,
   "metadata": {},
   "outputs": [
    {
     "data": {
      "text/html": [
       "<div>\n",
       "<style scoped>\n",
       "    .dataframe tbody tr th:only-of-type {\n",
       "        vertical-align: middle;\n",
       "    }\n",
       "\n",
       "    .dataframe tbody tr th {\n",
       "        vertical-align: top;\n",
       "    }\n",
       "\n",
       "    .dataframe thead th {\n",
       "        text-align: right;\n",
       "    }\n",
       "</style>\n",
       "<table border=\"1\" class=\"dataframe\">\n",
       "  <thead>\n",
       "    <tr style=\"text-align: right;\">\n",
       "      <th></th>\n",
       "      <th>val_loss</th>\n",
       "      <th>loss</th>\n",
       "    </tr>\n",
       "  </thead>\n",
       "  <tbody>\n",
       "    <tr>\n",
       "      <th>0</th>\n",
       "      <td>0.001091</td>\n",
       "      <td>0.001132</td>\n",
       "    </tr>\n",
       "    <tr>\n",
       "      <th>1</th>\n",
       "      <td>0.001291</td>\n",
       "      <td>0.001127</td>\n",
       "    </tr>\n",
       "    <tr>\n",
       "      <th>2</th>\n",
       "      <td>0.001085</td>\n",
       "      <td>0.001124</td>\n",
       "    </tr>\n",
       "    <tr>\n",
       "      <th>3</th>\n",
       "      <td>0.000989</td>\n",
       "      <td>0.001120</td>\n",
       "    </tr>\n",
       "    <tr>\n",
       "      <th>4</th>\n",
       "      <td>0.001088</td>\n",
       "      <td>0.001117</td>\n",
       "    </tr>\n",
       "    <tr>\n",
       "      <th>5</th>\n",
       "      <td>0.001061</td>\n",
       "      <td>0.001111</td>\n",
       "    </tr>\n",
       "    <tr>\n",
       "      <th>6</th>\n",
       "      <td>0.001046</td>\n",
       "      <td>0.001109</td>\n",
       "    </tr>\n",
       "    <tr>\n",
       "      <th>7</th>\n",
       "      <td>0.001062</td>\n",
       "      <td>0.001107</td>\n",
       "    </tr>\n",
       "    <tr>\n",
       "      <th>8</th>\n",
       "      <td>0.001029</td>\n",
       "      <td>0.001102</td>\n",
       "    </tr>\n",
       "    <tr>\n",
       "      <th>9</th>\n",
       "      <td>0.001019</td>\n",
       "      <td>0.001103</td>\n",
       "    </tr>\n",
       "    <tr>\n",
       "      <th>10</th>\n",
       "      <td>0.001208</td>\n",
       "      <td>0.001096</td>\n",
       "    </tr>\n",
       "    <tr>\n",
       "      <th>11</th>\n",
       "      <td>0.001056</td>\n",
       "      <td>0.001092</td>\n",
       "    </tr>\n",
       "    <tr>\n",
       "      <th>12</th>\n",
       "      <td>0.001234</td>\n",
       "      <td>0.001091</td>\n",
       "    </tr>\n",
       "    <tr>\n",
       "      <th>13</th>\n",
       "      <td>0.000998</td>\n",
       "      <td>0.001087</td>\n",
       "    </tr>\n",
       "    <tr>\n",
       "      <th>14</th>\n",
       "      <td>0.001055</td>\n",
       "      <td>0.001083</td>\n",
       "    </tr>\n",
       "    <tr>\n",
       "      <th>15</th>\n",
       "      <td>0.001065</td>\n",
       "      <td>0.001078</td>\n",
       "    </tr>\n",
       "    <tr>\n",
       "      <th>16</th>\n",
       "      <td>0.001130</td>\n",
       "      <td>0.001078</td>\n",
       "    </tr>\n",
       "    <tr>\n",
       "      <th>17</th>\n",
       "      <td>0.001138</td>\n",
       "      <td>0.001075</td>\n",
       "    </tr>\n",
       "    <tr>\n",
       "      <th>18</th>\n",
       "      <td>0.001043</td>\n",
       "      <td>0.001070</td>\n",
       "    </tr>\n",
       "    <tr>\n",
       "      <th>19</th>\n",
       "      <td>0.001034</td>\n",
       "      <td>0.001067</td>\n",
       "    </tr>\n",
       "    <tr>\n",
       "      <th>20</th>\n",
       "      <td>0.001108</td>\n",
       "      <td>0.001068</td>\n",
       "    </tr>\n",
       "    <tr>\n",
       "      <th>21</th>\n",
       "      <td>0.001334</td>\n",
       "      <td>0.001064</td>\n",
       "    </tr>\n",
       "    <tr>\n",
       "      <th>22</th>\n",
       "      <td>0.001024</td>\n",
       "      <td>0.001062</td>\n",
       "    </tr>\n",
       "    <tr>\n",
       "      <th>23</th>\n",
       "      <td>0.001097</td>\n",
       "      <td>0.001061</td>\n",
       "    </tr>\n",
       "    <tr>\n",
       "      <th>24</th>\n",
       "      <td>0.001046</td>\n",
       "      <td>0.001059</td>\n",
       "    </tr>\n",
       "    <tr>\n",
       "      <th>25</th>\n",
       "      <td>0.001111</td>\n",
       "      <td>0.001058</td>\n",
       "    </tr>\n",
       "    <tr>\n",
       "      <th>26</th>\n",
       "      <td>0.001061</td>\n",
       "      <td>0.001055</td>\n",
       "    </tr>\n",
       "    <tr>\n",
       "      <th>27</th>\n",
       "      <td>0.001018</td>\n",
       "      <td>0.001052</td>\n",
       "    </tr>\n",
       "    <tr>\n",
       "      <th>28</th>\n",
       "      <td>0.000964</td>\n",
       "      <td>0.001051</td>\n",
       "    </tr>\n",
       "    <tr>\n",
       "      <th>29</th>\n",
       "      <td>0.001117</td>\n",
       "      <td>0.001049</td>\n",
       "    </tr>\n",
       "    <tr>\n",
       "      <th>...</th>\n",
       "      <td>...</td>\n",
       "      <td>...</td>\n",
       "    </tr>\n",
       "    <tr>\n",
       "      <th>220</th>\n",
       "      <td>0.000913</td>\n",
       "      <td>0.000884</td>\n",
       "    </tr>\n",
       "    <tr>\n",
       "      <th>221</th>\n",
       "      <td>0.000832</td>\n",
       "      <td>0.000884</td>\n",
       "    </tr>\n",
       "    <tr>\n",
       "      <th>222</th>\n",
       "      <td>0.000875</td>\n",
       "      <td>0.000883</td>\n",
       "    </tr>\n",
       "    <tr>\n",
       "      <th>223</th>\n",
       "      <td>0.000839</td>\n",
       "      <td>0.000879</td>\n",
       "    </tr>\n",
       "    <tr>\n",
       "      <th>224</th>\n",
       "      <td>0.000915</td>\n",
       "      <td>0.000880</td>\n",
       "    </tr>\n",
       "    <tr>\n",
       "      <th>225</th>\n",
       "      <td>0.000839</td>\n",
       "      <td>0.000879</td>\n",
       "    </tr>\n",
       "    <tr>\n",
       "      <th>226</th>\n",
       "      <td>0.000880</td>\n",
       "      <td>0.000879</td>\n",
       "    </tr>\n",
       "    <tr>\n",
       "      <th>227</th>\n",
       "      <td>0.000843</td>\n",
       "      <td>0.000879</td>\n",
       "    </tr>\n",
       "    <tr>\n",
       "      <th>228</th>\n",
       "      <td>0.000784</td>\n",
       "      <td>0.000878</td>\n",
       "    </tr>\n",
       "    <tr>\n",
       "      <th>229</th>\n",
       "      <td>0.000847</td>\n",
       "      <td>0.000875</td>\n",
       "    </tr>\n",
       "    <tr>\n",
       "      <th>230</th>\n",
       "      <td>0.000918</td>\n",
       "      <td>0.000877</td>\n",
       "    </tr>\n",
       "    <tr>\n",
       "      <th>231</th>\n",
       "      <td>0.000792</td>\n",
       "      <td>0.000876</td>\n",
       "    </tr>\n",
       "    <tr>\n",
       "      <th>232</th>\n",
       "      <td>0.000884</td>\n",
       "      <td>0.000875</td>\n",
       "    </tr>\n",
       "    <tr>\n",
       "      <th>233</th>\n",
       "      <td>0.000794</td>\n",
       "      <td>0.000872</td>\n",
       "    </tr>\n",
       "    <tr>\n",
       "      <th>234</th>\n",
       "      <td>0.000929</td>\n",
       "      <td>0.000872</td>\n",
       "    </tr>\n",
       "    <tr>\n",
       "      <th>235</th>\n",
       "      <td>0.000859</td>\n",
       "      <td>0.000871</td>\n",
       "    </tr>\n",
       "    <tr>\n",
       "      <th>236</th>\n",
       "      <td>0.000801</td>\n",
       "      <td>0.000875</td>\n",
       "    </tr>\n",
       "    <tr>\n",
       "      <th>237</th>\n",
       "      <td>0.000939</td>\n",
       "      <td>0.000872</td>\n",
       "    </tr>\n",
       "    <tr>\n",
       "      <th>238</th>\n",
       "      <td>0.000867</td>\n",
       "      <td>0.000871</td>\n",
       "    </tr>\n",
       "    <tr>\n",
       "      <th>239</th>\n",
       "      <td>0.001058</td>\n",
       "      <td>0.000867</td>\n",
       "    </tr>\n",
       "    <tr>\n",
       "      <th>240</th>\n",
       "      <td>0.000993</td>\n",
       "      <td>0.000867</td>\n",
       "    </tr>\n",
       "    <tr>\n",
       "      <th>241</th>\n",
       "      <td>0.000875</td>\n",
       "      <td>0.000872</td>\n",
       "    </tr>\n",
       "    <tr>\n",
       "      <th>242</th>\n",
       "      <td>0.000821</td>\n",
       "      <td>0.000866</td>\n",
       "    </tr>\n",
       "    <tr>\n",
       "      <th>243</th>\n",
       "      <td>0.000854</td>\n",
       "      <td>0.000866</td>\n",
       "    </tr>\n",
       "    <tr>\n",
       "      <th>244</th>\n",
       "      <td>0.000816</td>\n",
       "      <td>0.000866</td>\n",
       "    </tr>\n",
       "    <tr>\n",
       "      <th>245</th>\n",
       "      <td>0.000818</td>\n",
       "      <td>0.000863</td>\n",
       "    </tr>\n",
       "    <tr>\n",
       "      <th>246</th>\n",
       "      <td>0.001073</td>\n",
       "      <td>0.000863</td>\n",
       "    </tr>\n",
       "    <tr>\n",
       "      <th>247</th>\n",
       "      <td>0.000808</td>\n",
       "      <td>0.000864</td>\n",
       "    </tr>\n",
       "    <tr>\n",
       "      <th>248</th>\n",
       "      <td>0.000839</td>\n",
       "      <td>0.000862</td>\n",
       "    </tr>\n",
       "    <tr>\n",
       "      <th>249</th>\n",
       "      <td>0.000804</td>\n",
       "      <td>0.000862</td>\n",
       "    </tr>\n",
       "  </tbody>\n",
       "</table>\n",
       "<p>250 rows × 2 columns</p>\n",
       "</div>"
      ],
      "text/plain": [
       "     val_loss      loss\n",
       "0    0.001091  0.001132\n",
       "1    0.001291  0.001127\n",
       "2    0.001085  0.001124\n",
       "3    0.000989  0.001120\n",
       "4    0.001088  0.001117\n",
       "5    0.001061  0.001111\n",
       "6    0.001046  0.001109\n",
       "7    0.001062  0.001107\n",
       "8    0.001029  0.001102\n",
       "9    0.001019  0.001103\n",
       "10   0.001208  0.001096\n",
       "11   0.001056  0.001092\n",
       "12   0.001234  0.001091\n",
       "13   0.000998  0.001087\n",
       "14   0.001055  0.001083\n",
       "15   0.001065  0.001078\n",
       "16   0.001130  0.001078\n",
       "17   0.001138  0.001075\n",
       "18   0.001043  0.001070\n",
       "19   0.001034  0.001067\n",
       "20   0.001108  0.001068\n",
       "21   0.001334  0.001064\n",
       "22   0.001024  0.001062\n",
       "23   0.001097  0.001061\n",
       "24   0.001046  0.001059\n",
       "25   0.001111  0.001058\n",
       "26   0.001061  0.001055\n",
       "27   0.001018  0.001052\n",
       "28   0.000964  0.001051\n",
       "29   0.001117  0.001049\n",
       "..        ...       ...\n",
       "220  0.000913  0.000884\n",
       "221  0.000832  0.000884\n",
       "222  0.000875  0.000883\n",
       "223  0.000839  0.000879\n",
       "224  0.000915  0.000880\n",
       "225  0.000839  0.000879\n",
       "226  0.000880  0.000879\n",
       "227  0.000843  0.000879\n",
       "228  0.000784  0.000878\n",
       "229  0.000847  0.000875\n",
       "230  0.000918  0.000877\n",
       "231  0.000792  0.000876\n",
       "232  0.000884  0.000875\n",
       "233  0.000794  0.000872\n",
       "234  0.000929  0.000872\n",
       "235  0.000859  0.000871\n",
       "236  0.000801  0.000875\n",
       "237  0.000939  0.000872\n",
       "238  0.000867  0.000871\n",
       "239  0.001058  0.000867\n",
       "240  0.000993  0.000867\n",
       "241  0.000875  0.000872\n",
       "242  0.000821  0.000866\n",
       "243  0.000854  0.000866\n",
       "244  0.000816  0.000866\n",
       "245  0.000818  0.000863\n",
       "246  0.001073  0.000863\n",
       "247  0.000808  0.000864\n",
       "248  0.000839  0.000862\n",
       "249  0.000804  0.000862\n",
       "\n",
       "[250 rows x 2 columns]"
      ]
     },
     "execution_count": 151,
     "metadata": {},
     "output_type": "execute_result"
    }
   ],
   "source": [
    "def train_validation_loss(df_history):\n",
    "    \n",
    "    trace = []\n",
    "    \n",
    "    for label, loss in zip(['Train', 'Validation'], ['loss', 'val_loss']):\n",
    "        trace0 = {'type' : 'scatter', \n",
    "                  'x'    : df_history.index.tolist(),\n",
    "                  'y'    : df_history[loss].tolist(),\n",
    "                  'name' : label,\n",
    "                  'mode' : 'lines'\n",
    "                  }\n",
    "        trace.append(trace0)\n",
    "    data = Data(trace)\n",
    "    \n",
    "    layout = {'title' : 'Model train-vs-validation loss', 'titlefont':{'size' : 30},\n",
    "              'xaxis' : {'title':  '<b> Epochs', 'titlefont':{ 'size' : 25}},\n",
    "              'yaxis' : {'title':  '<b> Loss', 'titlefont':{ 'size' : 25}},\n",
    "              }\n",
    "    fig = Figure(data = data, layout = layout)\n",
    "    \n",
    "    return pyo.iplot(fig)\n",
    "df_history"
   ]
  },
  {
   "cell_type": "code",
   "execution_count": 239,
   "metadata": {},
   "outputs": [
    {
     "ename": "TypeError",
     "evalue": "cannot concatenate object of type \"<class 'numpy.ndarray'>\"; only pd.Series, pd.DataFrame, and pd.Panel (deprecated) objs are valid",
     "output_type": "error",
     "traceback": [
      "\u001b[0;31m---------------------------------------------------------------------------\u001b[0m",
      "\u001b[0;31mTypeError\u001b[0m                                 Traceback (most recent call last)",
      "\u001b[0;32m<ipython-input-239-fd0bc4421133>\u001b[0m in \u001b[0;36m<module>\u001b[0;34m\u001b[0m\n\u001b[1;32m      5\u001b[0m \u001b[0mdf_error\u001b[0m\u001b[0;34m.\u001b[0m\u001b[0mdescribe\u001b[0m\u001b[0;34m(\u001b[0m\u001b[0;34m)\u001b[0m\u001b[0;34m\u001b[0m\u001b[0;34m\u001b[0m\u001b[0m\n\u001b[1;32m      6\u001b[0m \u001b[0;34m\u001b[0m\u001b[0m\n\u001b[0;32m----> 7\u001b[0;31m \u001b[0mX_scaled\u001b[0m \u001b[0;34m=\u001b[0m \u001b[0mpd\u001b[0m\u001b[0;34m.\u001b[0m\u001b[0mconcat\u001b[0m\u001b[0;34m(\u001b[0m\u001b[0;34m[\u001b[0m\u001b[0mX_train_scaled\u001b[0m\u001b[0;34m,\u001b[0m \u001b[0mX_test_scaled\u001b[0m\u001b[0;34m]\u001b[0m\u001b[0;34m)\u001b[0m\u001b[0;34m.\u001b[0m\u001b[0mreset_index\u001b[0m\u001b[0;34m(\u001b[0m\u001b[0mdrop\u001b[0m\u001b[0;34m=\u001b[0m\u001b[0;32mTrue\u001b[0m\u001b[0;34m)\u001b[0m\u001b[0;34m\u001b[0m\u001b[0;34m\u001b[0m\u001b[0m\n\u001b[0m",
      "\u001b[0;32m~/Research/workspace/venv/vmain/lib/python3.6/site-packages/pandas/core/reshape/concat.py\u001b[0m in \u001b[0;36mconcat\u001b[0;34m(objs, axis, join, join_axes, ignore_index, keys, levels, names, verify_integrity, sort, copy)\u001b[0m\n\u001b[1;32m    223\u001b[0m                        \u001b[0mkeys\u001b[0m\u001b[0;34m=\u001b[0m\u001b[0mkeys\u001b[0m\u001b[0;34m,\u001b[0m \u001b[0mlevels\u001b[0m\u001b[0;34m=\u001b[0m\u001b[0mlevels\u001b[0m\u001b[0;34m,\u001b[0m \u001b[0mnames\u001b[0m\u001b[0;34m=\u001b[0m\u001b[0mnames\u001b[0m\u001b[0;34m,\u001b[0m\u001b[0;34m\u001b[0m\u001b[0;34m\u001b[0m\u001b[0m\n\u001b[1;32m    224\u001b[0m                        \u001b[0mverify_integrity\u001b[0m\u001b[0;34m=\u001b[0m\u001b[0mverify_integrity\u001b[0m\u001b[0;34m,\u001b[0m\u001b[0;34m\u001b[0m\u001b[0;34m\u001b[0m\u001b[0m\n\u001b[0;32m--> 225\u001b[0;31m                        copy=copy, sort=sort)\n\u001b[0m\u001b[1;32m    226\u001b[0m     \u001b[0;32mreturn\u001b[0m \u001b[0mop\u001b[0m\u001b[0;34m.\u001b[0m\u001b[0mget_result\u001b[0m\u001b[0;34m(\u001b[0m\u001b[0;34m)\u001b[0m\u001b[0;34m\u001b[0m\u001b[0;34m\u001b[0m\u001b[0m\n\u001b[1;32m    227\u001b[0m \u001b[0;34m\u001b[0m\u001b[0m\n",
      "\u001b[0;32m~/Research/workspace/venv/vmain/lib/python3.6/site-packages/pandas/core/reshape/concat.py\u001b[0m in \u001b[0;36m__init__\u001b[0;34m(self, objs, axis, join, join_axes, keys, levels, names, ignore_index, verify_integrity, copy, sort)\u001b[0m\n\u001b[1;32m    284\u001b[0m                        \u001b[0;34m' only pd.Series, pd.DataFrame, and pd.Panel'\u001b[0m\u001b[0;34m\u001b[0m\u001b[0;34m\u001b[0m\u001b[0m\n\u001b[1;32m    285\u001b[0m                        ' (deprecated) objs are valid'.format(type(obj)))\n\u001b[0;32m--> 286\u001b[0;31m                 \u001b[0;32mraise\u001b[0m \u001b[0mTypeError\u001b[0m\u001b[0;34m(\u001b[0m\u001b[0mmsg\u001b[0m\u001b[0;34m)\u001b[0m\u001b[0;34m\u001b[0m\u001b[0;34m\u001b[0m\u001b[0m\n\u001b[0m\u001b[1;32m    287\u001b[0m \u001b[0;34m\u001b[0m\u001b[0m\n\u001b[1;32m    288\u001b[0m             \u001b[0;31m# consolidate\u001b[0m\u001b[0;34m\u001b[0m\u001b[0;34m\u001b[0m\u001b[0;34m\u001b[0m\u001b[0m\n",
      "\u001b[0;31mTypeError\u001b[0m: cannot concatenate object of type \"<class 'numpy.ndarray'>\"; only pd.Series, pd.DataFrame, and pd.Panel (deprecated) objs are valid"
     ]
    }
   ],
   "source": [
    "predictions = model.predict(X_test_scaled)\n",
    "\n",
    "mse = np.mean(np.power(X_test_scaled - predictions, 2), axis=1)\n",
    "df_error = pd.DataFrame({'reconstruction_error': mse, 'Label': y_test}, index=y_test.index)\n",
    "df_error.describe()\n",
    "\n",
    "X_scaled = pd.concat([X_train_scaled, X_test_scaled]).reset_index(drop=True)"
   ]
  },
  {
   "cell_type": "code",
   "execution_count": 251,
   "metadata": {},
   "outputs": [],
   "source": [
    "X_scaled = np.concatenate((X_train_scaled, X_test_scaled), axis=0)\n",
    "X_scaled = pd.DataFrame(X_scaled).fillna(0)"
   ]
  },
  {
   "cell_type": "code",
   "execution_count": 247,
   "metadata": {},
   "outputs": [
    {
     "name": "stdout",
     "output_type": "stream",
     "text": [
      "(2177051, 60)\n",
      "(2224006, 60)\n",
      "(4401057, 60)\n"
     ]
    }
   ],
   "source": [
    "print(X_train_scaled.shape)\n",
    "print(X_test_scaled.shape)\n",
    "print(X_scaled.shape)\n",
    "\n"
   ]
  },
  {
   "cell_type": "code",
   "execution_count": 261,
   "metadata": {},
   "outputs": [
    {
     "data": {
      "text/html": [
       "<div>\n",
       "<style scoped>\n",
       "    .dataframe tbody tr th:only-of-type {\n",
       "        vertical-align: middle;\n",
       "    }\n",
       "\n",
       "    .dataframe tbody tr th {\n",
       "        vertical-align: top;\n",
       "    }\n",
       "\n",
       "    .dataframe thead th {\n",
       "        text-align: right;\n",
       "    }\n",
       "</style>\n",
       "<table border=\"1\" class=\"dataframe\">\n",
       "  <thead>\n",
       "    <tr style=\"text-align: right;\">\n",
       "      <th></th>\n",
       "      <th>reconstruction_error</th>\n",
       "    </tr>\n",
       "  </thead>\n",
       "  <tbody>\n",
       "    <tr>\n",
       "      <th>count</th>\n",
       "      <td>4.401057e+06</td>\n",
       "    </tr>\n",
       "    <tr>\n",
       "      <th>mean</th>\n",
       "      <td>3.401911e-03</td>\n",
       "    </tr>\n",
       "    <tr>\n",
       "      <th>std</th>\n",
       "      <td>1.797700e-02</td>\n",
       "    </tr>\n",
       "    <tr>\n",
       "      <th>min</th>\n",
       "      <td>2.357876e-05</td>\n",
       "    </tr>\n",
       "    <tr>\n",
       "      <th>25%</th>\n",
       "      <td>1.207684e-04</td>\n",
       "    </tr>\n",
       "    <tr>\n",
       "      <th>50%</th>\n",
       "      <td>2.231395e-04</td>\n",
       "    </tr>\n",
       "    <tr>\n",
       "      <th>75%</th>\n",
       "      <td>4.979003e-04</td>\n",
       "    </tr>\n",
       "    <tr>\n",
       "      <th>max</th>\n",
       "      <td>5.648662e-01</td>\n",
       "    </tr>\n",
       "  </tbody>\n",
       "</table>\n",
       "</div>"
      ],
      "text/plain": [
       "       reconstruction_error\n",
       "count          4.401057e+06\n",
       "mean           3.401911e-03\n",
       "std            1.797700e-02\n",
       "min            2.357876e-05\n",
       "25%            1.207684e-04\n",
       "50%            2.231395e-04\n",
       "75%            4.979003e-04\n",
       "max            5.648662e-01"
      ]
     },
     "execution_count": 261,
     "metadata": {},
     "output_type": "execute_result"
    }
   ],
   "source": [
    "predictions = autoencoder.predict(X_scaled)\n",
    "\n",
    "mse = np.mean(np.power(X_scaled - predictions, 2), axis=1)\n",
    "df_error = pd.DataFrame({'reconstruction_error': mse})\n",
    "df_error.describe()"
   ]
  },
  {
   "cell_type": "code",
   "execution_count": 260,
   "metadata": {},
   "outputs": [
    {
     "data": {
      "text/plain": [
       "(4401057, 60)"
      ]
     },
     "execution_count": 260,
     "metadata": {},
     "output_type": "execute_result"
    }
   ],
   "source": [
    "predictions.shape\n",
    "X_scaled.shape"
   ]
  },
  {
   "cell_type": "code",
   "execution_count": 157,
   "metadata": {},
   "outputs": [
    {
     "name": "stdout",
     "output_type": "stream",
     "text": [
      "[[ 1.         -0.00326676  0.8145293  ...  0.9852088   0.00527329\n",
      "  -0.00662663]\n",
      " [ 1.         -0.00748903  0.8210425  ...  0.98521715  0.00537223\n",
      "  -0.00714326]\n",
      " [ 1.         -0.00322313  0.8196964  ...  0.9852456   0.00502892\n",
      "  -0.00880004]\n",
      " ...\n",
      " [ 0.99996996  0.07726217  0.82235736 ...  0.98463917  0.01593002\n",
      "   0.02210912]\n",
      " [ 0.99996996  0.07726217  0.82235736 ...  0.98463917  0.01593002\n",
      "   0.02210912]\n",
      " [ 1.         -0.00663958  0.661178   ...  0.9850386   0.01256376\n",
      "  -0.02502598]]\n",
      "[[0.99389654 0.00522895 0.82151807 ... 1.         0.         0.        ]\n",
      " [0.99263441 0.00410499 0.84041962 ... 1.         0.         0.        ]\n",
      " [0.9948446  0.00504086 0.81928151 ... 1.         0.         0.        ]\n",
      " ...\n",
      " [0.99348988 0.0039713  0.86966815 ... 1.         0.         0.        ]\n",
      " [0.99348988 0.0039713  0.86966815 ... 1.         0.         0.        ]\n",
      " [0.99459167 0.00542712 0.66651214 ... 1.         0.         0.        ]]\n"
     ]
    },
    {
     "data": {
      "text/plain": [
       "2177051"
      ]
     },
     "execution_count": 157,
     "metadata": {},
     "output_type": "execute_result"
    }
   ],
   "source": [
    "print(predictions)\n",
    "print(X_train_scaled)\n",
    "len(df_error.Label)"
   ]
  },
  {
   "cell_type": "code",
   "execution_count": 134,
   "metadata": {},
   "outputs": [
    {
     "name": "stdout",
     "output_type": "stream",
     "text": [
      "Index([                                          'latitude',\n",
      "                                                'longitude',\n",
      "                                              'log_minutes',\n",
      "                                                  'minutes',\n",
      "                                  'Department of Buildings',\n",
      "                   'Department of Environmental Protection',\n",
      "                                    'Department of Finance',\n",
      "                  'Department of Health and Mental Hygiene',\n",
      "       'Department of Housing Preservation and Development',\n",
      "                       'Department of Parks and Recreation',\n",
      "                                 'Department of Sanitation',\n",
      "                             'Department of Transportation',\n",
      "                          'New York City Police Department',\n",
      "        'Operations Unit - Department of Homeless Services',\n",
      "                                           'no_agency_name',\n",
      "                                        'other_agency_name',\n",
      "                                                    'BRONX',\n",
      "                                                 'BROOKLYN',\n",
      "                                                'MANHATTAN',\n",
      "                                                   'QUEENS',\n",
      "                                               'no_borough',\n",
      "                                            'other_borough',\n",
      "                                         'Blocked Driveway',\n",
      "                                           'HEAT/HOT WATER',\n",
      "                                          'Illegal Parking',\n",
      "                                                    'Noise',\n",
      "                                      'Noise - Residential',\n",
      "                                  'Noise - Street/Sidewalk',\n",
      "                                            'PAINT/PLASTER',\n",
      "                                         'Street Condition',\n",
      "                                     'UNSANITARY CONDITION',\n",
      "                                             'Water System',\n",
      "                                        'no_complaint_type',\n",
      "                                     'other_complaint_type',\n",
      "                                           'APARTMENT ONLY',\n",
      "                                         'Banging/Pounding',\n",
      "                                          'ENTIRE BUILDING',\n",
      "                                         'Loud Music/Party',\n",
      "                                             'Loud Talking',\n",
      "                                                'No Access',\n",
      "                                                    'PESTS',\n",
      "                            'Posted Parking Sign Violation',\n",
      "                                                  'Pothole',\n",
      "                                            'no_descriptor',\n",
      "                                         'other_descriptor',\n",
      "                                     'RESIDENTIAL BUILDING',\n",
      "                               'Residential Building/House',\n",
      "                                                 'Sidewalk',\n",
      "                                         'Store/Commercial',\n",
      "                                                   'Street',\n",
      "                                          'Street/Sidewalk',\n",
      "                                         'no_location_type',\n",
      "                                      'other_location_type',\n",
      "                                                          0,\n",
      "                                                          1,\n",
      "                                                          2,\n",
      "                                                          3,\n",
      "                                                          4,\n",
      "                                                          5,\n",
      "                                                          6],\n",
      "      dtype='object')\n"
     ]
    }
   ],
   "source": [
    "print(X_train.columns)"
   ]
  },
  {
   "cell_type": "code",
   "execution_count": 140,
   "metadata": {},
   "outputs": [
    {
     "name": "stdout",
     "output_type": "stream",
     "text": [
      "0\n",
      "1\n",
      "2\n",
      "3\n",
      "4\n",
      "5\n",
      "6\n",
      "7\n",
      "8\n",
      "9\n",
      "10\n",
      "11\n",
      "12\n",
      "13\n",
      "14\n",
      "15\n",
      "16\n",
      "17\n",
      "18\n",
      "19\n",
      "20\n",
      "21\n",
      "22\n",
      "23\n",
      "24\n",
      "25\n",
      "26\n",
      "27\n",
      "28\n",
      "29\n",
      "30\n",
      "31\n",
      "32\n",
      "33\n",
      "34\n",
      "35\n",
      "36\n",
      "37\n",
      "38\n",
      "39\n",
      "40\n",
      "41\n",
      "42\n",
      "43\n",
      "44\n",
      "45\n",
      "46\n",
      "47\n",
      "48\n",
      "49\n",
      "50\n",
      "51\n",
      "52\n",
      "53\n"
     ]
    },
    {
     "ename": "TypeError",
     "evalue": "must be str, not int",
     "output_type": "error",
     "traceback": [
      "\u001b[0;31m---------------------------------------------------------------------------\u001b[0m",
      "\u001b[0;31mTypeError\u001b[0m                                 Traceback (most recent call last)",
      "\u001b[0;32m<ipython-input-140-a2518fcf9897>\u001b[0m in \u001b[0;36m<module>\u001b[0;34m\u001b[0m\n\u001b[1;32m      4\u001b[0m     \u001b[0mf\u001b[0m\u001b[0;34m,\u001b[0m \u001b[0;34m(\u001b[0m\u001b[0max1\u001b[0m\u001b[0;34m,\u001b[0m \u001b[0max2\u001b[0m\u001b[0;34m)\u001b[0m \u001b[0;34m=\u001b[0m \u001b[0mplt\u001b[0m\u001b[0;34m.\u001b[0m\u001b[0msubplots\u001b[0m\u001b[0;34m(\u001b[0m\u001b[0;36m2\u001b[0m\u001b[0;34m,\u001b[0m \u001b[0;36m1\u001b[0m\u001b[0;34m,\u001b[0m \u001b[0msharex\u001b[0m\u001b[0;34m=\u001b[0m\u001b[0;32mTrue\u001b[0m\u001b[0;34m)\u001b[0m\u001b[0;34m\u001b[0m\u001b[0;34m\u001b[0m\u001b[0m\n\u001b[1;32m      5\u001b[0m     \u001b[0max1\u001b[0m\u001b[0;34m.\u001b[0m\u001b[0mhist\u001b[0m\u001b[0;34m(\u001b[0m\u001b[0mX_train_scaled\u001b[0m\u001b[0;34m[\u001b[0m\u001b[0;34m:\u001b[0m\u001b[0;34m,\u001b[0m\u001b[0mi\u001b[0m\u001b[0;34m]\u001b[0m\u001b[0;34m,\u001b[0m\u001b[0;36m50\u001b[0m\u001b[0;34m)\u001b[0m\u001b[0;34m\u001b[0m\u001b[0;34m\u001b[0m\u001b[0m\n\u001b[0;32m----> 6\u001b[0;31m     \u001b[0max1\u001b[0m\u001b[0;34m.\u001b[0m\u001b[0mset_title\u001b[0m\u001b[0;34m(\u001b[0m\u001b[0;34m'Parameter: '\u001b[0m\u001b[0;34m+\u001b[0m\u001b[0mX_train\u001b[0m\u001b[0;34m.\u001b[0m\u001b[0mcolumns\u001b[0m\u001b[0;34m[\u001b[0m\u001b[0mi\u001b[0m\u001b[0;34m]\u001b[0m\u001b[0;34m)\u001b[0m\u001b[0;34m\u001b[0m\u001b[0;34m\u001b[0m\u001b[0m\n\u001b[0m\u001b[1;32m      7\u001b[0m     \u001b[0max2\u001b[0m\u001b[0;34m.\u001b[0m\u001b[0mhist\u001b[0m\u001b[0;34m(\u001b[0m\u001b[0mpredictions\u001b[0m\u001b[0;34m[\u001b[0m\u001b[0;34m:\u001b[0m\u001b[0;34m,\u001b[0m\u001b[0mi\u001b[0m\u001b[0;34m]\u001b[0m\u001b[0;34m,\u001b[0m\u001b[0;36m50\u001b[0m\u001b[0;34m)\u001b[0m\u001b[0;34m\u001b[0m\u001b[0;34m\u001b[0m\u001b[0m\n\u001b[1;32m      8\u001b[0m     \u001b[0mf\u001b[0m\u001b[0;34m.\u001b[0m\u001b[0msavefig\u001b[0m\u001b[0;34m(\u001b[0m\u001b[0;34m'/Users/jkchandalia/Research/data_gravity/compare_autoencoding_'\u001b[0m\u001b[0;34m+\u001b[0m\u001b[0mX_train\u001b[0m\u001b[0;34m.\u001b[0m\u001b[0mcolumns\u001b[0m\u001b[0;34m[\u001b[0m\u001b[0mi\u001b[0m\u001b[0;34m]\u001b[0m\u001b[0;34m.\u001b[0m\u001b[0mreplace\u001b[0m\u001b[0;34m(\u001b[0m\u001b[0;34m'/'\u001b[0m\u001b[0;34m,\u001b[0m\u001b[0;34m'_'\u001b[0m\u001b[0;34m)\u001b[0m\u001b[0;34m.\u001b[0m\u001b[0mreplace\u001b[0m\u001b[0;34m(\u001b[0m\u001b[0;34m' '\u001b[0m\u001b[0;34m,\u001b[0m\u001b[0;34m'_'\u001b[0m\u001b[0;34m)\u001b[0m\u001b[0;34m+\u001b[0m\u001b[0;34m'.png'\u001b[0m\u001b[0;34m)\u001b[0m\u001b[0;34m\u001b[0m\u001b[0;34m\u001b[0m\u001b[0m\n",
      "\u001b[0;31mTypeError\u001b[0m: must be str, not int"
     ]
    },
    {
     "data": {
      "image/png": "[encoded data removed]",
      "text/plain": [
       "<Figure size 432x288 with 2 Axes>"
      ]
     },
     "metadata": {
      "needs_background": "light"
     },
     "output_type": "display_data"
    },
    {
     "data": {
      "image/png": "[encoded data removed]",
      "text/plain": [
       "<Figure size 432x288 with 2 Axes>"
      ]
     },
     "metadata": {
      "needs_background": "light"
     },
     "output_type": "display_data"
    },
    {
     "data": {
      "image/png": "[encoded data removed]",
      "text/plain": [
       "<Figure size 432x288 with 2 Axes>"
      ]
     },
     "metadata": {
      "needs_background": "light"
     },
     "output_type": "display_data"
    },
    {
     "data": {
      "image/png": "[encoded data removed]",
      "text/plain": [
       "<Figure size 432x288 with 2 Axes>"
      ]
     },
     "metadata": {
      "needs_background": "light"
     },
     "output_type": "display_data"
    },
    {
     "data": {
      "image/png": "[encoded data removed]",
      "text/plain": [
       "<Figure size 432x288 with 2 Axes>"
      ]
     },
     "metadata": {
      "needs_background": "light"
     },
     "output_type": "display_data"
    },
    {
     "data": {
      "image/png": "[encoded data removed]",
      "text/plain": [
       "<Figure size 432x288 with 2 Axes>"
      ]
     },
     "metadata": {
      "needs_background": "light"
     },
     "output_type": "display_data"
    },
    {
     "data": {
      "image/png": "[encoded data removed]",
      "text/plain": [
       "<Figure size 432x288 with 2 Axes>"
      ]
     },
     "metadata": {
      "needs_background": "light"
     },
     "output_type": "display_data"
    },
    {
     "data": {
      "image/png": "[encoded data removed]",
      "text/plain": [
       "<Figure size 432x288 with 2 Axes>"
      ]
     },
     "metadata": {
      "needs_background": "light"
     },
     "output_type": "display_data"
    },
    {
     "data": {
      "image/png": "[encoded data removed]",
      "text/plain": [
       "<Figure size 432x288 with 2 Axes>"
      ]
     },
     "metadata": {
      "needs_background": "light"
     },
     "output_type": "display_data"
    },
    {
     "data": {
      "image/png": "[encoded data removed]",
      "text/plain": [
       "<Figure size 432x288 with 2 Axes>"
      ]
     },
     "metadata": {
      "needs_background": "light"
     },
     "output_type": "display_data"
    },
    {
     "data": {
      "image/png": "[encoded data removed]",
      "text/plain": [
       "<Figure size 432x288 with 2 Axes>"
      ]
     },
     "metadata": {
      "needs_background": "light"
     },
     "output_type": "display_data"
    },
    {
     "data": {
      "image/png": "[encoded data removed]",
      "text/plain": [
       "<Figure size 432x288 with 2 Axes>"
      ]
     },
     "metadata": {
      "needs_background": "light"
     },
     "output_type": "display_data"
    },
    {
     "data": {
      "image/png": "[encoded data removed]",
      "text/plain": [
       "<Figure size 432x288 with 2 Axes>"
      ]
     },
     "metadata": {
      "needs_background": "light"
     },
     "output_type": "display_data"
    },
    {
     "data": {
      "image/png": "[encoded data removed]",
      "text/plain": [
       "<Figure size 432x288 with 2 Axes>"
      ]
     },
     "metadata": {
      "needs_background": "light"
     },
     "output_type": "display_data"
    },
    {
     "data": {
      "image/png": "[encoded data removed]",
      "text/plain": [
       "<Figure size 432x288 with 2 Axes>"
      ]
     },
     "metadata": {
      "needs_background": "light"
     },
     "output_type": "display_data"
    },
    {
     "data": {
      "image/png": "[encoded data removed]",
      "text/plain": [
       "<Figure size 432x288 with 2 Axes>"
      ]
     },
     "metadata": {
      "needs_background": "light"
     },
     "output_type": "display_data"
    },
    {
     "data": {
      "image/png": "[encoded data removed]",
      "text/plain": [
       "<Figure size 432x288 with 2 Axes>"
      ]
     },
     "metadata": {
      "needs_background": "light"
     },
     "output_type": "display_data"
    },
    {
     "data": {
      "image/png": "[encoded data removed]",
      "text/plain": [
       "<Figure size 432x288 with 2 Axes>"
      ]
     },
     "metadata": {
      "needs_background": "light"
     },
     "output_type": "display_data"
    },
    {
     "data": {
      "image/png": "[encoded data removed]",
      "text/plain": [
       "<Figure size 432x288 with 2 Axes>"
      ]
     },
     "metadata": {
      "needs_background": "light"
     },
     "output_type": "display_data"
    },
    {
     "data": {
      "image/png": "[encoded data removed]",
      "text/plain": [
       "<Figure size 432x288 with 2 Axes>"
      ]
     },
     "metadata": {
      "needs_background": "light"
     },
     "output_type": "display_data"
    },
    {
     "data": {
      "image/png": "[encoded data removed]",
      "text/plain": [
       "<Figure size 432x288 with 2 Axes>"
      ]
     },
     "metadata": {
      "needs_background": "light"
     },
     "output_type": "display_data"
    },
    {
     "data": {
      "image/png": "[encoded data removed]",
      "text/plain": [
       "<Figure size 432x288 with 2 Axes>"
      ]
     },
     "metadata": {
      "needs_background": "light"
     },
     "output_type": "display_data"
    },
    {
     "data": {
      "image/png": "[encoded data removed]",
      "text/plain": [
       "<Figure size 432x288 with 2 Axes>"
      ]
     },
     "metadata": {
      "needs_background": "light"
     },
     "output_type": "display_data"
    },
    {
     "data": {
      "image/png": "[encoded data removed]",
      "text/plain": [
       "<Figure size 432x288 with 2 Axes>"
      ]
     },
     "metadata": {
      "needs_background": "light"
     },
     "output_type": "display_data"
    },
    {
     "data": {
      "image/png": "[encoded data removed]",
      "text/plain": [
       "<Figure size 432x288 with 2 Axes>"
      ]
     },
     "metadata": {
      "needs_background": "light"
     },
     "output_type": "display_data"
    },
    {
     "data": {
      "image/png": "[encoded data removed]",
      "text/plain": [
       "<Figure size 432x288 with 2 Axes>"
      ]
     },
     "metadata": {
      "needs_background": "light"
     },
     "output_type": "display_data"
    },
    {
     "data": {
      "image/png": "[encoded data removed]",
      "text/plain": [
       "<Figure size 432x288 with 2 Axes>"
      ]
     },
     "metadata": {
      "needs_background": "light"
     },
     "output_type": "display_data"
    },
    {
     "data": {
      "image/png": "[encoded data removed]",
      "text/plain": [
       "<Figure size 432x288 with 2 Axes>"
      ]
     },
     "metadata": {
      "needs_background": "light"
     },
     "output_type": "display_data"
    },
    {
     "data": {
      "image/png": "[encoded data removed]",
      "text/plain": [
       "<Figure size 432x288 with 2 Axes>"
      ]
     },
     "metadata": {
      "needs_background": "light"
     },
     "output_type": "display_data"
    },
    {
     "data": {
      "image/png": "[encoded data removed]",
      "text/plain": [
       "<Figure size 432x288 with 2 Axes>"
      ]
     },
     "metadata": {
      "needs_background": "light"
     },
     "output_type": "display_data"
    },
    {
     "data": {
      "image/png": "[encoded data removed]",
      "text/plain": [
       "<Figure size 432x288 with 2 Axes>"
      ]
     },
     "metadata": {
      "needs_background": "light"
     },
     "output_type": "display_data"
    },
    {
     "data": {
      "image/png": "[encoded data removed]",
      "text/plain": [
       "<Figure size 432x288 with 2 Axes>"
      ]
     },
     "metadata": {
      "needs_background": "light"
     },
     "output_type": "display_data"
    },
    {
     "data": {
      "image/png": "[encoded data removed]",
      "text/plain": [
       "<Figure size 432x288 with 2 Axes>"
      ]
     },
     "metadata": {
      "needs_background": "light"
     },
     "output_type": "display_data"
    },
    {
     "data": {
      "image/png": "[encoded data removed]",
      "text/plain": [
       "<Figure size 432x288 with 2 Axes>"
      ]
     },
     "metadata": {
      "needs_background": "light"
     },
     "output_type": "display_data"
    },
    {
     "data": {
      "image/png": "[encoded data removed]",
      "text/plain": [
       "<Figure size 432x288 with 2 Axes>"
      ]
     },
     "metadata": {
      "needs_background": "light"
     },
     "output_type": "display_data"
    },
    {
     "data": {
      "image/png": "[encoded data removed]",
      "text/plain": [
       "<Figure size 432x288 with 2 Axes>"
      ]
     },
     "metadata": {
      "needs_background": "light"
     },
     "output_type": "display_data"
    },
    {
     "data": {
      "image/png": "[encoded data removed]",
      "text/plain": [
       "<Figure size 432x288 with 2 Axes>"
      ]
     },
     "metadata": {
      "needs_background": "light"
     },
     "output_type": "display_data"
    },
    {
     "data": {
      "image/png": "[encoded data removed]",
      "text/plain": [
       "<Figure size 432x288 with 2 Axes>"
      ]
     },
     "metadata": {
      "needs_background": "light"
     },
     "output_type": "display_data"
    },
    {
     "data": {
      "image/png": "[encoded data removed]",
      "text/plain": [
       "<Figure size 432x288 with 2 Axes>"
      ]
     },
     "metadata": {
      "needs_background": "light"
     },
     "output_type": "display_data"
    },
    {
     "data": {
      "image/png": "[encoded data removed]",
      "text/plain": [
       "<Figure size 432x288 with 2 Axes>"
      ]
     },
     "metadata": {
      "needs_background": "light"
     },
     "output_type": "display_data"
    },
    {
     "data": {
      "image/png": "[encoded data removed]",
      "text/plain": [
       "<Figure size 432x288 with 2 Axes>"
      ]
     },
     "metadata": {
      "needs_background": "light"
     },
     "output_type": "display_data"
    },
    {
     "data": {
      "image/png": "[encoded data removed]",
      "text/plain": [
       "<Figure size 432x288 with 2 Axes>"
      ]
     },
     "metadata": {
      "needs_background": "light"
     },
     "output_type": "display_data"
    },
    {
     "data": {
      "image/png": "[encoded data removed]",
      "text/plain": [
       "<Figure size 432x288 with 2 Axes>"
      ]
     },
     "metadata": {
      "needs_background": "light"
     },
     "output_type": "display_data"
    },
    {
     "data": {
      "image/png": "[encoded data removed]",
      "text/plain": [
       "<Figure size 432x288 with 2 Axes>"
      ]
     },
     "metadata": {
      "needs_background": "light"
     },
     "output_type": "display_data"
    },
    {
     "data": {
      "image/png": "[encoded data removed]",
      "text/plain": [
       "<Figure size 432x288 with 2 Axes>"
      ]
     },
     "metadata": {
      "needs_background": "light"
     },
     "output_type": "display_data"
    },
    {
     "data": {
      "image/png": "[encoded data removed]",
      "text/plain": [
       "<Figure size 432x288 with 2 Axes>"
      ]
     },
     "metadata": {
      "needs_background": "light"
     },
     "output_type": "display_data"
    },
    {
     "data": {
      "image/png": "[encoded data removed]",
      "text/plain": [
       "<Figure size 432x288 with 2 Axes>"
      ]
     },
     "metadata": {
      "needs_background": "light"
     },
     "output_type": "display_data"
    },
    {
     "data": {
      "image/png": "[encoded data removed]",
      "text/plain": [
       "<Figure size 432x288 with 2 Axes>"
      ]
     },
     "metadata": {
      "needs_background": "light"
     },
     "output_type": "display_data"
    },
    {
     "data": {
      "image/png": "[encoded data removed]",
      "text/plain": [
       "<Figure size 432x288 with 2 Axes>"
      ]
     },
     "metadata": {
      "needs_background": "light"
     },
     "output_type": "display_data"
    },
    {
     "data": {
      "image/png": "[encoded data removed]",
      "text/plain": [
       "<Figure size 432x288 with 2 Axes>"
      ]
     },
     "metadata": {
      "needs_background": "light"
     },
     "output_type": "display_data"
    },
    {
     "data": {
      "image/png": "[encoded data removed]",
      "text/plain": [
       "<Figure size 432x288 with 2 Axes>"
      ]
     },
     "metadata": {
      "needs_background": "light"
     },
     "output_type": "display_data"
    },
    {
     "data": {
      "image/png": "[encoded data removed]",
      "text/plain": [
       "<Figure size 432x288 with 2 Axes>"
      ]
     },
     "metadata": {
      "needs_background": "light"
     },
     "output_type": "display_data"
    },
    {
     "data": {
      "image/png": "[encoded data removed]",
      "text/plain": [
       "<Figure size 432x288 with 2 Axes>"
      ]
     },
     "metadata": {
      "needs_background": "light"
     },
     "output_type": "display_data"
    },
    {
     "data": {
      "image/png": "[encoded data removed]",
      "text/plain": [
       "<Figure size 432x288 with 2 Axes>"
      ]
     },
     "metadata": {
      "needs_background": "light"
     },
     "output_type": "display_data"
    }
   ],
   "source": [
    "#Creates two subplots and unpacks the output array immediately\n",
    "for i in range(0,len(X_train.columns)):\n",
    "    print(i)\n",
    "    f, (ax1, ax2) = plt.subplots(2, 1, sharex=True)\n",
    "    ax1.hist(X_train_scaled[:,i],50)\n",
    "    ax1.set_title('Parameter: '+X_train.columns[i])\n",
    "    ax2.hist(predictions[:,i],50)\n",
    "    f.savefig('/Users/jkchandalia/Research/data_gravity/compare_autoencoding_'+X_train.columns[i].replace('/','_').replace(' ','_')+'.png')"
   ]
  },
  {
   "cell_type": "code",
   "execution_count": 138,
   "metadata": {},
   "outputs": [
    {
     "ename": "AttributeError",
     "evalue": "'Figure' object has no attribute 'close'",
     "output_type": "error",
     "traceback": [
      "\u001b[0;31m---------------------------------------------------------------------------\u001b[0m",
      "\u001b[0;31mAttributeError\u001b[0m                            Traceback (most recent call last)",
      "\u001b[0;32m<ipython-input-138-b5edb7b78a9a>\u001b[0m in \u001b[0;36m<module>\u001b[0;34m\u001b[0m\n\u001b[0;32m----> 1\u001b[0;31m \u001b[0mf\u001b[0m\u001b[0;34m.\u001b[0m\u001b[0mclose\u001b[0m\u001b[0;34m(\u001b[0m\u001b[0;34m)\u001b[0m\u001b[0;34m\u001b[0m\u001b[0;34m\u001b[0m\u001b[0m\n\u001b[0m",
      "\u001b[0;31mAttributeError\u001b[0m: 'Figure' object has no attribute 'close'"
     ]
    }
   ],
   "source": [
    "f.close()"
   ]
  },
  {
   "cell_type": "code",
   "execution_count": 36,
   "metadata": {},
   "outputs": [
    {
     "data": {
      "text/plain": [
       "Index([                                          'latitude',\n",
       "                                                'longitude',\n",
       "                                   'created_date_timestamp',\n",
       "                                              'log_minutes',\n",
       "                                                    'chaos',\n",
       "                                                  'minutes',\n",
       "                                  'Department of Buildings',\n",
       "                   'Department of Environmental Protection',\n",
       "                                    'Department of Finance',\n",
       "                  'Department of Health and Mental Hygiene',\n",
       "       'Department of Housing Preservation and Development',\n",
       "                       'Department of Parks and Recreation',\n",
       "                                 'Department of Sanitation',\n",
       "                             'Department of Transportation',\n",
       "                          'New York City Police Department',\n",
       "        'Operations Unit - Department of Homeless Services',\n",
       "                                           'no_agency_name',\n",
       "                                        'other_agency_name',\n",
       "                                                    'BRONX',\n",
       "                                                 'BROOKLYN',\n",
       "                                                'MANHATTAN',\n",
       "                                                   'QUEENS',\n",
       "                                               'no_borough',\n",
       "                                            'other_borough',\n",
       "                                         'Blocked Driveway',\n",
       "                                           'HEAT/HOT WATER',\n",
       "                                          'Illegal Parking',\n",
       "                                                    'Noise',\n",
       "                                      'Noise - Residential',\n",
       "                                  'Noise - Street/Sidewalk',\n",
       "                                            'PAINT/PLASTER',\n",
       "                                         'Street Condition',\n",
       "                                     'UNSANITARY CONDITION',\n",
       "                                             'Water System',\n",
       "                                        'no_complaint_type',\n",
       "                                     'other_complaint_type',\n",
       "                                           'APARTMENT ONLY',\n",
       "                                         'Banging/Pounding',\n",
       "                                          'ENTIRE BUILDING',\n",
       "                                         'Loud Music/Party',\n",
       "                                             'Loud Talking',\n",
       "                                                'No Access',\n",
       "                                                    'PESTS',\n",
       "                            'Posted Parking Sign Violation',\n",
       "                                                  'Pothole',\n",
       "                                            'no_descriptor',\n",
       "                                         'other_descriptor',\n",
       "                                     'RESIDENTIAL BUILDING',\n",
       "                               'Residential Building/House',\n",
       "                                                 'Sidewalk',\n",
       "                                         'Store/Commercial',\n",
       "                                                   'Street',\n",
       "                                          'Street/Sidewalk',\n",
       "                                         'no_location_type',\n",
       "                                      'other_location_type',\n",
       "                                                          0,\n",
       "                                                          1,\n",
       "                                                          2,\n",
       "                                                          3,\n",
       "                                                          4,\n",
       "                                                          5,\n",
       "                                                          6],\n",
       "      dtype='object')"
      ]
     },
     "execution_count": 36,
     "metadata": {},
     "output_type": "execute_result"
    }
   ],
   "source": [
    "sum(df_error.Label)\n",
    "df_train.columns"
   ]
  },
  {
   "cell_type": "code",
   "execution_count": 115,
   "metadata": {},
   "outputs": [
    {
     "name": "stdout",
     "output_type": "stream",
     "text": [
      "[[ 0.47982708  0.5213366   0.80414474 ...  0.98505193 -0.01020623\n",
      "   0.01234695]\n",
      " [ 0.4798892   0.5213641   0.80425864 ...  0.98505694 -0.01024032\n",
      "   0.01217067]\n",
      " [ 0.47954127  0.5228327   0.807602   ...  0.9851081  -0.01571049\n",
      "   0.01219069]\n",
      " ...\n",
      " [ 0.48444188  0.5530317   0.8454598  ...  0.9853983  -0.01529491\n",
      "   0.00409279]\n",
      " [ 0.48444188  0.5530317   0.8454598  ...  0.9853983  -0.01529491\n",
      "   0.00409279]\n",
      " [ 0.48709628  0.5079393   0.6511436  ...  0.9849475  -0.02292899\n",
      "   0.00227773]]\n",
      "[[0.49749615 0.50234119 0.82151807 ... 1.         0.         0.        ]\n",
      " [0.49686439 0.5017789  0.84041962 ... 1.         0.         0.        ]\n",
      " [0.49797071 0.50224709 0.81928151 ... 1.         0.         0.        ]\n",
      " ...\n",
      " [0.4972926  0.50171202 0.86966815 ... 1.         0.         0.        ]\n",
      " [0.4972926  0.50171202 0.86966815 ... 1.         0.         0.        ]\n",
      " [0.4978441  0.50244033 0.66651214 ... 1.         0.         0.        ]]\n"
     ]
    },
    {
     "data": {
      "text/plain": [
       "Index([                                          'latitude',\n",
       "                                                'longitude',\n",
       "                                              'log_minutes',\n",
       "                                                  'minutes',\n",
       "                                  'Department of Buildings',\n",
       "                   'Department of Environmental Protection',\n",
       "                                    'Department of Finance',\n",
       "                  'Department of Health and Mental Hygiene',\n",
       "       'Department of Housing Preservation and Development',\n",
       "                       'Department of Parks and Recreation',\n",
       "                                 'Department of Sanitation',\n",
       "                             'Department of Transportation',\n",
       "                          'New York City Police Department',\n",
       "        'Operations Unit - Department of Homeless Services',\n",
       "                                           'no_agency_name',\n",
       "                                        'other_agency_name',\n",
       "                                                    'BRONX',\n",
       "                                                 'BROOKLYN',\n",
       "                                                'MANHATTAN',\n",
       "                                                   'QUEENS',\n",
       "                                               'no_borough',\n",
       "                                            'other_borough',\n",
       "                                         'Blocked Driveway',\n",
       "                                           'HEAT/HOT WATER',\n",
       "                                          'Illegal Parking',\n",
       "                                                    'Noise',\n",
       "                                      'Noise - Residential',\n",
       "                                  'Noise - Street/Sidewalk',\n",
       "                                            'PAINT/PLASTER',\n",
       "                                         'Street Condition',\n",
       "                                     'UNSANITARY CONDITION',\n",
       "                                             'Water System',\n",
       "                                        'no_complaint_type',\n",
       "                                     'other_complaint_type',\n",
       "                                           'APARTMENT ONLY',\n",
       "                                         'Banging/Pounding',\n",
       "                                          'ENTIRE BUILDING',\n",
       "                                         'Loud Music/Party',\n",
       "                                             'Loud Talking',\n",
       "                                                'No Access',\n",
       "                                                    'PESTS',\n",
       "                            'Posted Parking Sign Violation',\n",
       "                                                  'Pothole',\n",
       "                                            'no_descriptor',\n",
       "                                         'other_descriptor',\n",
       "                                     'RESIDENTIAL BUILDING',\n",
       "                               'Residential Building/House',\n",
       "                                                 'Sidewalk',\n",
       "                                         'Store/Commercial',\n",
       "                                                   'Street',\n",
       "                                          'Street/Sidewalk',\n",
       "                                         'no_location_type',\n",
       "                                      'other_location_type',\n",
       "                                                          0,\n",
       "                                                          1,\n",
       "                                                          2,\n",
       "                                                          3,\n",
       "                                                          4,\n",
       "                                                          5,\n",
       "                                                          6],\n",
       "      dtype='object')"
      ]
     },
     "execution_count": 115,
     "metadata": {},
     "output_type": "execute_result"
    }
   ],
   "source": [
    "predictions = model.predict(X_train_scaled)\n",
    "\n",
    "mse = np.mean(np.power(X_train_scaled - predictions, 2), axis=1)\n",
    "df_error = pd.DataFrame({'reconstruction_error': mse, 'Label': y_train.astype(int)})\n",
    "df_error.describe()\n",
    "\n",
    "print(predictions)\n",
    "print(X_train_scaled)\n",
    "\n",
    "X_train.columns"
   ]
  },
  {
   "cell_type": "code",
   "execution_count": null,
   "metadata": {},
   "outputs": [],
   "source": [
    "sum(df_error.Label)/len(df_error)\n"
   ]
  },
  {
   "cell_type": "code",
   "execution_count": null,
   "metadata": {},
   "outputs": [],
   "source": [
    "#plt.plot(df_history.val_loss, 'r-')\n",
    "#plt.plot(df_history.loss, 'b-')\n",
    "plt.hist(df_history.loss)\n",
    "plt.figure()\n",
    "plt.hist(df_history.val_loss)\n",
    "print(min(df_history.loss))\n",
    "print(max(df_history.loss))"
   ]
  },
  {
   "cell_type": "code",
   "execution_count": 263,
   "metadata": {},
   "outputs": [
    {
     "name": "stdout",
     "output_type": "stream",
     "text": [
      "4401057\n"
     ]
    }
   ],
   "source": [
    "len(df_train.date)\n",
    "print(len(df_error))\n",
    "df_error['date']=df.date"
   ]
  },
  {
   "cell_type": "code",
   "execution_count": 262,
   "metadata": {},
   "outputs": [
    {
     "data": {
      "text/plain": [
       "0          2016-01-01\n",
       "1          2016-01-01\n",
       "2          2016-01-01\n",
       "3          2016-01-01\n",
       "4          2016-01-01\n",
       "5          2016-01-01\n",
       "6          2016-01-01\n",
       "7          2016-01-01\n",
       "8          2016-01-01\n",
       "9          2016-01-01\n",
       "10         2016-01-01\n",
       "11         2016-01-01\n",
       "12         2016-01-01\n",
       "13         2016-01-01\n",
       "14         2016-01-01\n",
       "15         2016-01-01\n",
       "16         2016-01-01\n",
       "17         2016-01-01\n",
       "18         2016-01-01\n",
       "19         2016-01-01\n",
       "20         2016-01-01\n",
       "21         2016-01-01\n",
       "22         2016-01-01\n",
       "23         2016-01-01\n",
       "24         2016-01-01\n",
       "25         2016-01-01\n",
       "26         2016-01-01\n",
       "27         2016-01-01\n",
       "28         2016-01-01\n",
       "29         2016-01-01\n",
       "              ...    \n",
       "4401027    2017-12-31\n",
       "4401028    2017-12-31\n",
       "4401029    2017-12-31\n",
       "4401030    2017-12-31\n",
       "4401031    2017-12-31\n",
       "4401032    2017-12-31\n",
       "4401033    2017-12-31\n",
       "4401034    2017-12-31\n",
       "4401035    2017-12-31\n",
       "4401036    2017-12-31\n",
       "4401037    2017-12-31\n",
       "4401038    2017-12-31\n",
       "4401039    2017-12-31\n",
       "4401040    2017-12-31\n",
       "4401041    2017-12-31\n",
       "4401042    2017-12-31\n",
       "4401043    2017-12-31\n",
       "4401044    2017-12-31\n",
       "4401045    2017-12-31\n",
       "4401046    2017-12-31\n",
       "4401047    2017-12-31\n",
       "4401048    2017-12-31\n",
       "4401049    2017-12-31\n",
       "4401050    2017-12-31\n",
       "4401051    2017-12-31\n",
       "4401052    2017-12-31\n",
       "4401053    2017-12-31\n",
       "4401054    2017-12-31\n",
       "4401055    2017-12-31\n",
       "4401056    2017-12-31\n",
       "Name: date, Length: 4401057, dtype: object"
      ]
     },
     "execution_count": 262,
     "metadata": {},
     "output_type": "execute_result"
    }
   ],
   "source": [
    "df.date"
   ]
  },
  {
   "cell_type": "code",
   "execution_count": 266,
   "metadata": {},
   "outputs": [],
   "source": [
    "df_error_date=df_error.groupby(['date']).agg({'reconstruction_error':['max','min','mean','median','std']}).apply(list).apply(pd.Series)\n",
    "df_error_date\n",
    "#end_labels = labels[labels.set=='train'].chaos.astype(int).values\n",
    "#df_error_date['labels'] = end_labels\n",
    "out = pd.DataFrame({'date': df_error_date.index, 'scores': df_error_date.reconstruction_error['std']})"
   ]
  },
  {
   "cell_type": "code",
   "execution_count": 269,
   "metadata": {},
   "outputs": [],
   "source": [
    "out = out.reset_index(drop=True)\n",
    "scores = out\n",
    "scores.to_csv('/Users/jkchandalia/Research/data_gravity/scores_DL.csv', index=False)"
   ]
  },
  {
   "cell_type": "code",
   "execution_count": 282,
   "metadata": {},
   "outputs": [
    {
     "data": {
      "image/png": "[encoded data removed]",
      "text/plain": [
       "<Figure size 432x288 with 1 Axes>"
      ]
     },
     "metadata": {
      "needs_background": "light"
     },
     "output_type": "display_data"
    }
   ],
   "source": [
    "import sklearn\n",
    "roc_metrics = sklearn.metrics.roc_curve(labels.chaos[0:365].astype(int), out.scores[0:365])\n",
    "roc_metrics\n",
    "plt.plot(roc_metrics[0], roc_metrics[1],'b')\n",
    "plt.plot([0,1],[0,1],'r')\n",
    "plt.xlabel('FPR')\n",
    "plt.ylabel('TPR')\n",
    "plt.title('Train ROC Results Using Autoencoder')\n",
    "plt.savefig('/Users/jkchandalia/Research/data_gravity/autoencoder.png')"
   ]
  },
  {
   "cell_type": "code",
   "execution_count": 283,
   "metadata": {},
   "outputs": [
    {
     "data": {
      "text/plain": [
       "0.6677575757575758"
      ]
     },
     "execution_count": 283,
     "metadata": {},
     "output_type": "execute_result"
    }
   ],
   "source": [
    "df_error_date.reconstruction_error['std'].values\n",
    "y_train = labels.chaos[~labels.chaos.isnull()]\n",
    "preds = df_error_date.reconstruction_error['std'][0:len(y_train)].values\n",
    "roc_auc_score(y_train.astype(int), preds.tolist())\n",
    "#preds.tolist()\n",
    "\n",
    "#labels\n",
    "#y_train.astype(int)\n",
    "#df_error_date"
   ]
  },
  {
   "cell_type": "code",
   "execution_count": 174,
   "metadata": {},
   "outputs": [
    {
     "data": {
      "image/png": "[encoded data removed]",
      "text/plain": [
       "<Figure size 432x288 with 1 Axes>"
      ]
     },
     "metadata": {
      "needs_background": "light"
     },
     "output_type": "display_data"
    },
    {
     "data": {
      "image/png": "[encoded data removed]",
      "text/plain": [
       "<Figure size 432x288 with 1 Axes>"
      ]
     },
     "metadata": {
      "needs_background": "light"
     },
     "output_type": "display_data"
    }
   ],
   "source": [
    "df_error_date.reconstruction_error['mean'][df_error_date.labels==1]\n",
    "plt.hist(df_error_date.reconstruction_error['mean'][df_error_date.labels==1],1000)\n",
    "plt.xlim([0.0004, 0.1])\n",
    "plt.yscale('log')\n",
    "plt.xscale('log')\n",
    "plt.figure()\n",
    "plt.hist(df_error_date.reconstruction_error['mean'][df_error_date.labels==0],50)\n",
    "plt.xlim([0.0004, 0.1])\n",
    "plt.yscale('log')\n",
    "plt.xscale('log')\n"
   ]
  },
  {
   "cell_type": "code",
   "execution_count": 200,
   "metadata": {},
   "outputs": [
    {
     "data": {
      "text/plain": [
       "(array([  9.,   7.,  26.,  36.,  65.,  72.,  67.,  73.,  93.,  90.,  80.,\n",
       "        123.,  99., 121., 140., 135., 159., 120., 133., 133., 138., 119.,\n",
       "         81.,  78.,  73.,  87.,  97., 104.,  57.,  67.,  73.,  89.,  67.,\n",
       "         48.,  55.,  39.,  28.,  31.,  21.,  15.,  13.,  14.,  12.,   9.,\n",
       "         14.,   7.,   6.,   4.,  17.,  29.,  27.,  46.,  24.,  11.,  24.,\n",
       "         15.,  12.,  13.,  11.,   7.,   8.,   4.,   8.,  56.,  44., 185.,\n",
       "        127.,   4.,  58.,  23.,  56.,  12.,   3.,  16.,   6.,   4.,   0.,\n",
       "          0.,   3.,   1.,  64.,  37.,  31.,  50.,  60.,  15.,  20.,   6.,\n",
       "         14.,  11.,   1.,   1.,   5.,   3.,   3.,   5.,   4.,   5.,   2.,\n",
       "          1.]),\n",
       " array([-9.94631364, -9.86504275, -9.78377187, -9.70250098, -9.6212301 ,\n",
       "        -9.53995922, -9.45868833, -9.37741745, -9.29614657, -9.21487568,\n",
       "        -9.1336048 , -9.05233391, -8.97106303, -8.88979215, -8.80852126,\n",
       "        -8.72725038, -8.64597949, -8.56470861, -8.48343773, -8.40216684,\n",
       "        -8.32089596, -8.23962508, -8.15835419, -8.07708331, -7.99581242,\n",
       "        -7.91454154, -7.83327066, -7.75199977, -7.67072889, -7.58945801,\n",
       "        -7.50818712, -7.42691624, -7.34564535, -7.26437447, -7.18310359,\n",
       "        -7.1018327 , -7.02056182, -6.93929094, -6.85802005, -6.77674917,\n",
       "        -6.69547828, -6.6142074 , -6.53293652, -6.45166563, -6.37039475,\n",
       "        -6.28912387, -6.20785298, -6.1265821 , -6.04531121, -5.96404033,\n",
       "        -5.88276945, -5.80149856, -5.72022768, -5.6389568 , -5.55768591,\n",
       "        -5.47641503, -5.39514414, -5.31387326, -5.23260238, -5.15133149,\n",
       "        -5.07006061, -4.98878973, -4.90751884, -4.82624796, -4.74497707,\n",
       "        -4.66370619, -4.58243531, -4.50116442, -4.41989354, -4.33862266,\n",
       "        -4.25735177, -4.17608089, -4.09481   , -4.01353912, -3.93226824,\n",
       "        -3.85099735, -3.76972647, -3.68845559, -3.6071847 , -3.52591382,\n",
       "        -3.44464293, -3.36337205, -3.28210117, -3.20083028, -3.1195594 ,\n",
       "        -3.03828852, -2.95701763, -2.87574675, -2.79447586, -2.71320498,\n",
       "        -2.6319341 , -2.55066321, -2.46939233, -2.38812145, -2.30685056,\n",
       "        -2.22557968, -2.14430879, -2.06303791, -1.98176703, -1.90049614,\n",
       "        -1.81922526]),\n",
       " <a list of 100 Patch objects>)"
      ]
     },
     "execution_count": 200,
     "metadata": {},
     "output_type": "execute_result"
    },
    {
     "data": {
      "image/png": "[encoded data removed]",
      "text/plain": [
       "<Figure size 432x288 with 1 Axes>"
      ]
     },
     "metadata": {
      "needs_background": "light"
     },
     "output_type": "display_data"
    },
    {
     "data": {
      "image/png": "[encoded data removed]",
      "text/plain": [
       "<Figure size 432x288 with 1 Axes>"
      ]
     },
     "metadata": {
      "needs_background": "light"
     },
     "output_type": "display_data"
    },
    {
     "data": {
      "image/png": "[encoded data removed]",
      "text/plain": [
       "<Figure size 432x288 with 1 Axes>"
      ]
     },
     "metadata": {
      "needs_background": "light"
     },
     "output_type": "display_data"
    },
    {
     "data": {
      "image/png": "[encoded data removed]",
      "text/plain": [
       "<Figure size 432x288 with 1 Axes>"
      ]
     },
     "metadata": {
      "needs_background": "light"
     },
     "output_type": "display_data"
    },
    {
     "data": {
      "image/png": "[encoded data removed]",
      "text/plain": [
       "<Figure size 432x288 with 1 Axes>"
      ]
     },
     "metadata": {
      "needs_background": "light"
     },
     "output_type": "display_data"
    },
    {
     "data": {
      "image/png": "[encoded data removed]",
      "text/plain": [
       "<Figure size 432x288 with 1 Axes>"
      ]
     },
     "metadata": {
      "needs_background": "light"
     },
     "output_type": "display_data"
    },
    {
     "data": {
      "image/png": "[encoded data removed]",
      "text/plain": [
       "<Figure size 432x288 with 1 Axes>"
      ]
     },
     "metadata": {
      "needs_background": "light"
     },
     "output_type": "display_data"
    },
    {
     "data": {
      "image/png": "[encoded data removed]",
      "text/plain": [
       "<Figure size 432x288 with 1 Axes>"
      ]
     },
     "metadata": {
      "needs_background": "light"
     },
     "output_type": "display_data"
    },
    {
     "data": {
      "image/png": "[encoded data removed]",
      "text/plain": [
       "<Figure size 432x288 with 1 Axes>"
      ]
     },
     "metadata": {
      "needs_background": "light"
     },
     "output_type": "display_data"
    },
    {
     "data": {
      "image/png": "[encoded data removed]",
      "text/plain": [
       "<Figure size 432x288 with 1 Axes>"
      ]
     },
     "metadata": {
      "needs_background": "light"
     },
     "output_type": "display_data"
    },
    {
     "data": {
      "image/png": "[encoded data removed]",
      "text/plain": [
       "<Figure size 432x288 with 1 Axes>"
      ]
     },
     "metadata": {
      "needs_background": "light"
     },
     "output_type": "display_data"
    },
    {
     "data": {
      "image/png": "[encoded data removed]",
      "text/plain": [
       "<Figure size 432x288 with 1 Axes>"
      ]
     },
     "metadata": {
      "needs_background": "light"
     },
     "output_type": "display_data"
    },
    {
     "data": {
      "image/png": "[encoded data removed]",
      "text/plain": [
       "<Figure size 432x288 with 1 Axes>"
      ]
     },
     "metadata": {
      "needs_background": "light"
     },
     "output_type": "display_data"
    },
    {
     "data": {
      "image/png": "[encoded data removed]",
      "text/plain": [
       "<Figure size 432x288 with 1 Axes>"
      ]
     },
     "metadata": {
      "needs_background": "light"
     },
     "output_type": "display_data"
    },
    {
     "data": {
      "image/png": "[encoded data removed]",
      "text/plain": [
       "<Figure size 432x288 with 1 Axes>"
      ]
     },
     "metadata": {
      "needs_background": "light"
     },
     "output_type": "display_data"
    },
    {
     "data": {
      "image/png": "[encoded data removed]",
      "text/plain": [
       "<Figure size 432x288 with 1 Axes>"
      ]
     },
     "metadata": {
      "needs_background": "light"
     },
     "output_type": "display_data"
    },
    {
     "data": {
      "image/png": "[encoded data removed]",
      "text/plain": [
       "<Figure size 432x288 with 1 Axes>"
      ]
     },
     "metadata": {
      "needs_background": "light"
     },
     "output_type": "display_data"
    },
    {
     "data": {
      "image/png": "[encoded data removed]",
      "text/plain": [
       "<Figure size 432x288 with 1 Axes>"
      ]
     },
     "metadata": {
      "needs_background": "light"
     },
     "output_type": "display_data"
    },
    {
     "data": {
      "image/png": "[encoded data removed]",
      "text/plain": [
       "<Figure size 432x288 with 1 Axes>"
      ]
     },
     "metadata": {
      "needs_background": "light"
     },
     "output_type": "display_data"
    }
   ],
   "source": [
    "plt.figure()\n",
    "plt.hist(np.log(df_error[df_error['date']=='2016-01-01']['reconstruction_error']),100)\n",
    "plt.figure()\n",
    "plt.hist(np.log(df_error[df_error['date']=='2016-01-02']['reconstruction_error']),100)\n",
    "plt.figure()\n",
    "plt.hist(np.log(df_error[df_error['date']=='2016-01-03']['reconstruction_error']),100)\n",
    "plt.figure()\n",
    "plt.hist(np.log(df_error[df_error['date']=='2016-01-04']['reconstruction_error']),100)\n",
    "plt.figure()\n",
    "plt.hist(np.log(df_error[df_error['date']=='2016-01-05']['reconstruction_error']),100)\n",
    "plt.figure()\n",
    "plt.hist(np.log(df_error[df_error['date']=='2016-01-06']['reconstruction_error']),100)\n",
    "plt.figure()\n",
    "plt.hist(np.log(df_error[df_error['date']=='2016-01-07']['reconstruction_error']),100)\n",
    "plt.figure()\n",
    "plt.hist(np.log(df_error[df_error['date']=='2016-01-08']['reconstruction_error']),100)\n",
    "plt.figure()\n",
    "plt.hist(np.log(df_error[df_error['date']=='2016-01-09']['reconstruction_error']),100)\n",
    "plt.figure()\n",
    "plt.hist(np.log(df_error[df_error['date']=='2016-01-18']['reconstruction_error']),100)\n",
    "plt.figure()\n",
    "plt.hist(np.log(df_error[df_error['date']=='2016-01-28']['reconstruction_error']),100)\n",
    "plt.figure()\n",
    "plt.hist(np.log(df_error[df_error['date']=='2016-01-31']['reconstruction_error']),100)\n",
    "plt.figure()\n",
    "plt.hist(np.log(df_error[df_error['date']=='2016-02-01']['reconstruction_error']),100)\n",
    "plt.figure()\n",
    "plt.hist(np.log(df_error[df_error['date']=='2016-02-03']['reconstruction_error']),100)\n",
    "plt.figure()\n",
    "plt.hist(np.log(df_error[df_error['date']=='2016-02-09']['reconstruction_error']),100)\n",
    "plt.figure()\n",
    "plt.hist(np.log(df_error[df_error['date']=='2016-02-16']['reconstruction_error']),100)\n",
    "plt.figure()\n",
    "plt.hist(np.log(df_error[df_error['date']=='2016-02-25']['reconstruction_error']),100)\n",
    "plt.figure()\n",
    "plt.hist(np.log(df_error[df_error['date']=='2016-02-26']['reconstruction_error']),100)\n",
    "plt.figure()\n",
    "plt.hist(np.log(df_error[df_error['date']=='2016-02-28']['reconstruction_error']),100)\n"
   ]
  },
  {
   "cell_type": "code",
   "execution_count": 211,
   "metadata": {},
   "outputs": [],
   "source": [
    "df[df.date=='2016-01-09'].to_csv('/Users/jkchandalia/Research/data_gravity/caught_by_auto_20160109.csv')\n",
    "df[df.date=='2016-02-03'].to_csv('/Users/jkchandalia/Research/data_gravity/caught_by_auto_20160203.csv')\n",
    "df[df.date=='2016-02-16'].to_csv('/Users/jkchandalia/Research/data_gravity/caught_by_auto_20160216.csv')\n",
    "df[df.date=='2016-02-28'].to_csv('/Users/jkchandalia/Research/data_gravity/caught_by_auto_20160228.csv')\n"
   ]
  },
  {
   "cell_type": "code",
   "execution_count": 201,
   "metadata": {},
   "outputs": [
    {
     "name": "stdout",
     "output_type": "stream",
     "text": [
      "37\n"
     ]
    },
    {
     "data": {
      "text/plain": [
       "90"
      ]
     },
     "execution_count": 201,
     "metadata": {},
     "output_type": "execute_result"
    },
    {
     "data": {
      "image/png": "[encoded data removed]",
      "text/plain": [
       "<Figure size 432x288 with 1 Axes>"
      ]
     },
     "metadata": {
      "needs_background": "light"
     },
     "output_type": "display_data"
    },
    {
     "data": {
      "image/png": "[encoded data removed]",
      "text/plain": [
       "<Figure size 432x288 with 1 Axes>"
      ]
     },
     "metadata": {
      "needs_background": "light"
     },
     "output_type": "display_data"
    }
   ],
   "source": [
    "df_error_date.reconstruction_error['std'][df_error_date.labels==1]\n",
    "plt.hist(df_error_date.reconstruction_error['std'][df_error_date.labels==1],500)\n",
    "plt.xlim([0.0004, 0.1])\n",
    "plt.yscale('log')\n",
    "plt.xscale('log')\n",
    "plt.figure()\n",
    "plt.hist(df_error_date.reconstruction_error['std'][df_error_date.labels==0],50)\n",
    "plt.xlim([0.0004, 0.1])\n",
    "plt.yscale('log')\n",
    "plt.xscale('log')\n",
    "print(sum(df_error_date.reconstruction_error['std']>.004))\n",
    "len(df_error_date[df_error_date.labels==1])"
   ]
  },
  {
   "cell_type": "code",
   "execution_count": 186,
   "metadata": {},
   "outputs": [
    {
     "name": "stdout",
     "output_type": "stream",
     "text": [
      "23\n"
     ]
    },
    {
     "data": {
      "text/plain": [
       "365"
      ]
     },
     "execution_count": 186,
     "metadata": {},
     "output_type": "execute_result"
    },
    {
     "data": {
      "image/png": "[encoded data removed]",
      "text/plain": [
       "<Figure size 432x288 with 1 Axes>"
      ]
     },
     "metadata": {
      "needs_background": "light"
     },
     "output_type": "display_data"
    },
    {
     "data": {
      "image/png": "[encoded data removed]",
      "text/plain": [
       "<Figure size 432x288 with 1 Axes>"
      ]
     },
     "metadata": {
      "needs_background": "light"
     },
     "output_type": "display_data"
    }
   ],
   "source": [
    "df_error_date.reconstruction_error['median'][df_error_date.labels==1]\n",
    "plt.hist(df_error_date.reconstruction_error['median'][df_error_date.labels==1],5000)\n",
    "plt.xlim([0.0001, 0.1])\n",
    "plt.yscale('log')\n",
    "plt.xscale('log')\n",
    "plt.figure()\n",
    "plt.hist(df_error_date.reconstruction_error['median'][df_error_date.labels==0],50)\n",
    "plt.xlim([0.0001, 0.1])\n",
    "plt.yscale('log')\n",
    "plt.xscale('log')\n",
    "\n",
    "print(sum(df_error_date.reconstruction_error['median']>.0003))\n",
    "len(df_error_date)"
   ]
  },
  {
   "cell_type": "code",
   "execution_count": 203,
   "metadata": {},
   "outputs": [
    {
     "data": {
      "image/png": "[encoded data removed]",
      "text/plain": [
       "<Figure size 432x288 with 1 Axes>"
      ]
     },
     "metadata": {
      "needs_background": "light"
     },
     "output_type": "display_data"
    },
    {
     "data": {
      "image/png": "[encoded data removed]",
      "text/plain": [
       "<Figure size 432x288 with 1 Axes>"
      ]
     },
     "metadata": {
      "needs_background": "light"
     },
     "output_type": "display_data"
    }
   ],
   "source": [
    "df_error_date.reconstruction_error['max'][df_error_date.labels==1]\n",
    "plt.hist(df_error_date.reconstruction_error['max'][df_error_date.labels==1],500)\n",
    "#plt.xlim([0.0004, 0.1])\n",
    "plt.yscale('log')\n",
    "plt.xscale('log')\n",
    "plt.figure()\n",
    "plt.hist(df_error_date.reconstruction_error['max'][df_error_date.labels==0],50)\n",
    "#plt.xlim([0.0004, 0.1])\n",
    "plt.yscale('log')\n",
    "plt.xscale('log')\n"
   ]
  },
  {
   "cell_type": "code",
   "execution_count": 122,
   "metadata": {},
   "outputs": [
    {
     "data": {
      "text/html": [
       "<div>\n",
       "<style scoped>\n",
       "    .dataframe tbody tr th:only-of-type {\n",
       "        vertical-align: middle;\n",
       "    }\n",
       "\n",
       "    .dataframe tbody tr th {\n",
       "        vertical-align: top;\n",
       "    }\n",
       "\n",
       "    .dataframe thead th {\n",
       "        text-align: right;\n",
       "    }\n",
       "</style>\n",
       "<table border=\"1\" class=\"dataframe\">\n",
       "  <thead>\n",
       "    <tr style=\"text-align: right;\">\n",
       "      <th></th>\n",
       "      <th>max</th>\n",
       "      <th>min</th>\n",
       "      <th>mean</th>\n",
       "      <th>median</th>\n",
       "      <th>std</th>\n",
       "    </tr>\n",
       "    <tr>\n",
       "      <th>date</th>\n",
       "      <th></th>\n",
       "      <th></th>\n",
       "      <th></th>\n",
       "      <th></th>\n",
       "      <th></th>\n",
       "    </tr>\n",
       "  </thead>\n",
       "  <tbody>\n",
       "    <tr>\n",
       "      <th>2016-01-01</th>\n",
       "      <td>0.042366</td>\n",
       "      <td>0.000072</td>\n",
       "      <td>0.000799</td>\n",
       "      <td>0.000217</td>\n",
       "      <td>0.002620</td>\n",
       "    </tr>\n",
       "    <tr>\n",
       "      <th>2016-01-02</th>\n",
       "      <td>0.053123</td>\n",
       "      <td>0.000064</td>\n",
       "      <td>0.000780</td>\n",
       "      <td>0.000213</td>\n",
       "      <td>0.002671</td>\n",
       "    </tr>\n",
       "    <tr>\n",
       "      <th>2016-01-03</th>\n",
       "      <td>0.044181</td>\n",
       "      <td>0.000088</td>\n",
       "      <td>0.000965</td>\n",
       "      <td>0.000243</td>\n",
       "      <td>0.002720</td>\n",
       "    </tr>\n",
       "    <tr>\n",
       "      <th>2016-01-04</th>\n",
       "      <td>0.039239</td>\n",
       "      <td>0.000070</td>\n",
       "      <td>0.000798</td>\n",
       "      <td>0.000211</td>\n",
       "      <td>0.002812</td>\n",
       "    </tr>\n",
       "    <tr>\n",
       "      <th>2016-01-05</th>\n",
       "      <td>0.052721</td>\n",
       "      <td>0.000073</td>\n",
       "      <td>0.000642</td>\n",
       "      <td>0.000187</td>\n",
       "      <td>0.002381</td>\n",
       "    </tr>\n",
       "    <tr>\n",
       "      <th>2016-01-06</th>\n",
       "      <td>0.035567</td>\n",
       "      <td>0.000054</td>\n",
       "      <td>0.000841</td>\n",
       "      <td>0.000230</td>\n",
       "      <td>0.002806</td>\n",
       "    </tr>\n",
       "    <tr>\n",
       "      <th>2016-01-07</th>\n",
       "      <td>0.049563</td>\n",
       "      <td>0.000068</td>\n",
       "      <td>0.001036</td>\n",
       "      <td>0.000231</td>\n",
       "      <td>0.003227</td>\n",
       "    </tr>\n",
       "    <tr>\n",
       "      <th>2016-01-08</th>\n",
       "      <td>0.063192</td>\n",
       "      <td>0.000072</td>\n",
       "      <td>0.001004</td>\n",
       "      <td>0.000234</td>\n",
       "      <td>0.003374</td>\n",
       "    </tr>\n",
       "    <tr>\n",
       "      <th>2016-01-09</th>\n",
       "      <td>0.108155</td>\n",
       "      <td>0.000066</td>\n",
       "      <td>0.020113</td>\n",
       "      <td>0.023194</td>\n",
       "      <td>0.017187</td>\n",
       "    </tr>\n",
       "    <tr>\n",
       "      <th>2016-01-10</th>\n",
       "      <td>0.053806</td>\n",
       "      <td>0.000087</td>\n",
       "      <td>0.001112</td>\n",
       "      <td>0.000285</td>\n",
       "      <td>0.003048</td>\n",
       "    </tr>\n",
       "    <tr>\n",
       "      <th>2016-01-11</th>\n",
       "      <td>0.037362</td>\n",
       "      <td>0.000070</td>\n",
       "      <td>0.000809</td>\n",
       "      <td>0.000226</td>\n",
       "      <td>0.002802</td>\n",
       "    </tr>\n",
       "    <tr>\n",
       "      <th>2016-01-12</th>\n",
       "      <td>0.033541</td>\n",
       "      <td>0.000073</td>\n",
       "      <td>0.000883</td>\n",
       "      <td>0.000226</td>\n",
       "      <td>0.002908</td>\n",
       "    </tr>\n",
       "    <tr>\n",
       "      <th>2016-01-13</th>\n",
       "      <td>0.041898</td>\n",
       "      <td>0.000054</td>\n",
       "      <td>0.000837</td>\n",
       "      <td>0.000221</td>\n",
       "      <td>0.002805</td>\n",
       "    </tr>\n",
       "    <tr>\n",
       "      <th>2016-01-14</th>\n",
       "      <td>0.053980</td>\n",
       "      <td>0.000065</td>\n",
       "      <td>0.000943</td>\n",
       "      <td>0.000226</td>\n",
       "      <td>0.003099</td>\n",
       "    </tr>\n",
       "    <tr>\n",
       "      <th>2016-01-15</th>\n",
       "      <td>0.033428</td>\n",
       "      <td>0.000075</td>\n",
       "      <td>0.000969</td>\n",
       "      <td>0.000247</td>\n",
       "      <td>0.003100</td>\n",
       "    </tr>\n",
       "    <tr>\n",
       "      <th>2016-01-16</th>\n",
       "      <td>0.034951</td>\n",
       "      <td>0.000066</td>\n",
       "      <td>0.000953</td>\n",
       "      <td>0.000253</td>\n",
       "      <td>0.002887</td>\n",
       "    </tr>\n",
       "    <tr>\n",
       "      <th>2016-01-17</th>\n",
       "      <td>0.025965</td>\n",
       "      <td>0.000088</td>\n",
       "      <td>0.001013</td>\n",
       "      <td>0.000254</td>\n",
       "      <td>0.002597</td>\n",
       "    </tr>\n",
       "    <tr>\n",
       "      <th>2016-01-18</th>\n",
       "      <td>0.031887</td>\n",
       "      <td>0.000070</td>\n",
       "      <td>0.000731</td>\n",
       "      <td>0.000194</td>\n",
       "      <td>0.002482</td>\n",
       "    </tr>\n",
       "    <tr>\n",
       "      <th>2016-01-19</th>\n",
       "      <td>0.053801</td>\n",
       "      <td>0.000075</td>\n",
       "      <td>0.000654</td>\n",
       "      <td>0.000188</td>\n",
       "      <td>0.002364</td>\n",
       "    </tr>\n",
       "    <tr>\n",
       "      <th>2016-01-20</th>\n",
       "      <td>0.031468</td>\n",
       "      <td>0.000054</td>\n",
       "      <td>0.000866</td>\n",
       "      <td>0.000236</td>\n",
       "      <td>0.002825</td>\n",
       "    </tr>\n",
       "    <tr>\n",
       "      <th>2016-01-21</th>\n",
       "      <td>0.032465</td>\n",
       "      <td>0.000065</td>\n",
       "      <td>0.000804</td>\n",
       "      <td>0.000225</td>\n",
       "      <td>0.002666</td>\n",
       "    </tr>\n",
       "    <tr>\n",
       "      <th>2016-01-22</th>\n",
       "      <td>0.043442</td>\n",
       "      <td>0.000070</td>\n",
       "      <td>0.000771</td>\n",
       "      <td>0.000294</td>\n",
       "      <td>0.002351</td>\n",
       "    </tr>\n",
       "    <tr>\n",
       "      <th>2016-01-23</th>\n",
       "      <td>0.049424</td>\n",
       "      <td>0.000064</td>\n",
       "      <td>0.000674</td>\n",
       "      <td>0.000174</td>\n",
       "      <td>0.002343</td>\n",
       "    </tr>\n",
       "    <tr>\n",
       "      <th>2016-01-24</th>\n",
       "      <td>0.036143</td>\n",
       "      <td>0.000087</td>\n",
       "      <td>0.000702</td>\n",
       "      <td>0.000215</td>\n",
       "      <td>0.002009</td>\n",
       "    </tr>\n",
       "    <tr>\n",
       "      <th>2016-01-25</th>\n",
       "      <td>0.054302</td>\n",
       "      <td>0.000072</td>\n",
       "      <td>0.000761</td>\n",
       "      <td>0.000263</td>\n",
       "      <td>0.002576</td>\n",
       "    </tr>\n",
       "    <tr>\n",
       "      <th>2016-01-26</th>\n",
       "      <td>0.039911</td>\n",
       "      <td>0.000073</td>\n",
       "      <td>0.000738</td>\n",
       "      <td>0.000272</td>\n",
       "      <td>0.002229</td>\n",
       "    </tr>\n",
       "    <tr>\n",
       "      <th>2016-01-27</th>\n",
       "      <td>0.034892</td>\n",
       "      <td>0.000055</td>\n",
       "      <td>0.000843</td>\n",
       "      <td>0.000286</td>\n",
       "      <td>0.002412</td>\n",
       "    </tr>\n",
       "    <tr>\n",
       "      <th>2016-01-28</th>\n",
       "      <td>0.055472</td>\n",
       "      <td>0.000066</td>\n",
       "      <td>0.000917</td>\n",
       "      <td>0.000346</td>\n",
       "      <td>0.002485</td>\n",
       "    </tr>\n",
       "    <tr>\n",
       "      <th>2016-01-29</th>\n",
       "      <td>0.035856</td>\n",
       "      <td>0.000071</td>\n",
       "      <td>0.000777</td>\n",
       "      <td>0.000242</td>\n",
       "      <td>0.002519</td>\n",
       "    </tr>\n",
       "    <tr>\n",
       "      <th>2016-01-30</th>\n",
       "      <td>0.052527</td>\n",
       "      <td>0.000064</td>\n",
       "      <td>0.000958</td>\n",
       "      <td>0.000253</td>\n",
       "      <td>0.002836</td>\n",
       "    </tr>\n",
       "    <tr>\n",
       "      <th>...</th>\n",
       "      <td>...</td>\n",
       "      <td>...</td>\n",
       "      <td>...</td>\n",
       "      <td>...</td>\n",
       "      <td>...</td>\n",
       "    </tr>\n",
       "    <tr>\n",
       "      <th>2016-12-01</th>\n",
       "      <td>0.041476</td>\n",
       "      <td>0.000065</td>\n",
       "      <td>0.000711</td>\n",
       "      <td>0.000242</td>\n",
       "      <td>0.002130</td>\n",
       "    </tr>\n",
       "    <tr>\n",
       "      <th>2016-12-02</th>\n",
       "      <td>0.043319</td>\n",
       "      <td>0.000072</td>\n",
       "      <td>0.000703</td>\n",
       "      <td>0.000248</td>\n",
       "      <td>0.002133</td>\n",
       "    </tr>\n",
       "    <tr>\n",
       "      <th>2016-12-03</th>\n",
       "      <td>0.163816</td>\n",
       "      <td>0.000064</td>\n",
       "      <td>0.018579</td>\n",
       "      <td>0.006834</td>\n",
       "      <td>0.021663</td>\n",
       "    </tr>\n",
       "    <tr>\n",
       "      <th>2016-12-04</th>\n",
       "      <td>0.050348</td>\n",
       "      <td>0.000088</td>\n",
       "      <td>0.000888</td>\n",
       "      <td>0.000251</td>\n",
       "      <td>0.002491</td>\n",
       "    </tr>\n",
       "    <tr>\n",
       "      <th>2016-12-05</th>\n",
       "      <td>0.042463</td>\n",
       "      <td>0.000072</td>\n",
       "      <td>0.000801</td>\n",
       "      <td>0.000245</td>\n",
       "      <td>0.002470</td>\n",
       "    </tr>\n",
       "    <tr>\n",
       "      <th>2016-12-06</th>\n",
       "      <td>0.027676</td>\n",
       "      <td>0.000074</td>\n",
       "      <td>0.000686</td>\n",
       "      <td>0.000240</td>\n",
       "      <td>0.002034</td>\n",
       "    </tr>\n",
       "    <tr>\n",
       "      <th>2016-12-07</th>\n",
       "      <td>0.039767</td>\n",
       "      <td>0.000053</td>\n",
       "      <td>0.000759</td>\n",
       "      <td>0.000254</td>\n",
       "      <td>0.002244</td>\n",
       "    </tr>\n",
       "    <tr>\n",
       "      <th>2016-12-08</th>\n",
       "      <td>0.040500</td>\n",
       "      <td>0.000067</td>\n",
       "      <td>0.000735</td>\n",
       "      <td>0.000223</td>\n",
       "      <td>0.002285</td>\n",
       "    </tr>\n",
       "    <tr>\n",
       "      <th>2016-12-09</th>\n",
       "      <td>0.053215</td>\n",
       "      <td>0.000071</td>\n",
       "      <td>0.000678</td>\n",
       "      <td>0.000207</td>\n",
       "      <td>0.002202</td>\n",
       "    </tr>\n",
       "    <tr>\n",
       "      <th>2016-12-10</th>\n",
       "      <td>0.047930</td>\n",
       "      <td>0.000064</td>\n",
       "      <td>0.000741</td>\n",
       "      <td>0.000222</td>\n",
       "      <td>0.002557</td>\n",
       "    </tr>\n",
       "    <tr>\n",
       "      <th>2016-12-11</th>\n",
       "      <td>0.044798</td>\n",
       "      <td>0.000088</td>\n",
       "      <td>0.000793</td>\n",
       "      <td>0.000233</td>\n",
       "      <td>0.002305</td>\n",
       "    </tr>\n",
       "    <tr>\n",
       "      <th>2016-12-12</th>\n",
       "      <td>0.046901</td>\n",
       "      <td>0.000072</td>\n",
       "      <td>0.000699</td>\n",
       "      <td>0.000228</td>\n",
       "      <td>0.002302</td>\n",
       "    </tr>\n",
       "    <tr>\n",
       "      <th>2016-12-13</th>\n",
       "      <td>0.039009</td>\n",
       "      <td>0.000072</td>\n",
       "      <td>0.000717</td>\n",
       "      <td>0.000227</td>\n",
       "      <td>0.002163</td>\n",
       "    </tr>\n",
       "    <tr>\n",
       "      <th>2016-12-14</th>\n",
       "      <td>0.034249</td>\n",
       "      <td>0.000053</td>\n",
       "      <td>0.000762</td>\n",
       "      <td>0.000254</td>\n",
       "      <td>0.002307</td>\n",
       "    </tr>\n",
       "    <tr>\n",
       "      <th>2016-12-15</th>\n",
       "      <td>0.043867</td>\n",
       "      <td>0.000065</td>\n",
       "      <td>0.000597</td>\n",
       "      <td>0.000200</td>\n",
       "      <td>0.001897</td>\n",
       "    </tr>\n",
       "    <tr>\n",
       "      <th>2016-12-16</th>\n",
       "      <td>0.028757</td>\n",
       "      <td>0.000071</td>\n",
       "      <td>0.000719</td>\n",
       "      <td>0.000196</td>\n",
       "      <td>0.001950</td>\n",
       "    </tr>\n",
       "    <tr>\n",
       "      <th>2016-12-17</th>\n",
       "      <td>0.034252</td>\n",
       "      <td>0.000064</td>\n",
       "      <td>0.000571</td>\n",
       "      <td>0.000201</td>\n",
       "      <td>0.001618</td>\n",
       "    </tr>\n",
       "    <tr>\n",
       "      <th>2016-12-18</th>\n",
       "      <td>0.043825</td>\n",
       "      <td>0.000088</td>\n",
       "      <td>0.000871</td>\n",
       "      <td>0.000264</td>\n",
       "      <td>0.002308</td>\n",
       "    </tr>\n",
       "    <tr>\n",
       "      <th>2016-12-19</th>\n",
       "      <td>0.036189</td>\n",
       "      <td>0.000071</td>\n",
       "      <td>0.000686</td>\n",
       "      <td>0.000211</td>\n",
       "      <td>0.002238</td>\n",
       "    </tr>\n",
       "    <tr>\n",
       "      <th>2016-12-20</th>\n",
       "      <td>0.182518</td>\n",
       "      <td>0.000074</td>\n",
       "      <td>0.016429</td>\n",
       "      <td>0.000607</td>\n",
       "      <td>0.023484</td>\n",
       "    </tr>\n",
       "    <tr>\n",
       "      <th>2016-12-21</th>\n",
       "      <td>0.034534</td>\n",
       "      <td>0.000063</td>\n",
       "      <td>0.002027</td>\n",
       "      <td>0.001753</td>\n",
       "      <td>0.002349</td>\n",
       "    </tr>\n",
       "    <tr>\n",
       "      <th>2016-12-22</th>\n",
       "      <td>0.030624</td>\n",
       "      <td>0.000066</td>\n",
       "      <td>0.000650</td>\n",
       "      <td>0.000235</td>\n",
       "      <td>0.001906</td>\n",
       "    </tr>\n",
       "    <tr>\n",
       "      <th>2016-12-23</th>\n",
       "      <td>0.043059</td>\n",
       "      <td>0.000071</td>\n",
       "      <td>0.000789</td>\n",
       "      <td>0.000241</td>\n",
       "      <td>0.002332</td>\n",
       "    </tr>\n",
       "    <tr>\n",
       "      <th>2016-12-24</th>\n",
       "      <td>0.037202</td>\n",
       "      <td>0.000064</td>\n",
       "      <td>0.000643</td>\n",
       "      <td>0.000232</td>\n",
       "      <td>0.001815</td>\n",
       "    </tr>\n",
       "    <tr>\n",
       "      <th>2016-12-25</th>\n",
       "      <td>0.293300</td>\n",
       "      <td>0.000091</td>\n",
       "      <td>0.006252</td>\n",
       "      <td>0.000245</td>\n",
       "      <td>0.022434</td>\n",
       "    </tr>\n",
       "    <tr>\n",
       "      <th>2016-12-26</th>\n",
       "      <td>0.045477</td>\n",
       "      <td>0.000071</td>\n",
       "      <td>0.000748</td>\n",
       "      <td>0.000212</td>\n",
       "      <td>0.002301</td>\n",
       "    </tr>\n",
       "    <tr>\n",
       "      <th>2016-12-27</th>\n",
       "      <td>0.026892</td>\n",
       "      <td>0.000075</td>\n",
       "      <td>0.000873</td>\n",
       "      <td>0.000255</td>\n",
       "      <td>0.002391</td>\n",
       "    </tr>\n",
       "    <tr>\n",
       "      <th>2016-12-28</th>\n",
       "      <td>0.050666</td>\n",
       "      <td>0.000053</td>\n",
       "      <td>0.004167</td>\n",
       "      <td>0.004509</td>\n",
       "      <td>0.003088</td>\n",
       "    </tr>\n",
       "    <tr>\n",
       "      <th>2016-12-29</th>\n",
       "      <td>0.041671</td>\n",
       "      <td>0.000066</td>\n",
       "      <td>0.000763</td>\n",
       "      <td>0.000243</td>\n",
       "      <td>0.002355</td>\n",
       "    </tr>\n",
       "    <tr>\n",
       "      <th>2016-12-30</th>\n",
       "      <td>0.046198</td>\n",
       "      <td>0.000076</td>\n",
       "      <td>0.001084</td>\n",
       "      <td>0.000295</td>\n",
       "      <td>0.002864</td>\n",
       "    </tr>\n",
       "  </tbody>\n",
       "</table>\n",
       "<p>365 rows × 5 columns</p>\n",
       "</div>"
      ],
      "text/plain": [
       "                 max       min      mean    median       std\n",
       "date                                                        \n",
       "2016-01-01  0.042366  0.000072  0.000799  0.000217  0.002620\n",
       "2016-01-02  0.053123  0.000064  0.000780  0.000213  0.002671\n",
       "2016-01-03  0.044181  0.000088  0.000965  0.000243  0.002720\n",
       "2016-01-04  0.039239  0.000070  0.000798  0.000211  0.002812\n",
       "2016-01-05  0.052721  0.000073  0.000642  0.000187  0.002381\n",
       "2016-01-06  0.035567  0.000054  0.000841  0.000230  0.002806\n",
       "2016-01-07  0.049563  0.000068  0.001036  0.000231  0.003227\n",
       "2016-01-08  0.063192  0.000072  0.001004  0.000234  0.003374\n",
       "2016-01-09  0.108155  0.000066  0.020113  0.023194  0.017187\n",
       "2016-01-10  0.053806  0.000087  0.001112  0.000285  0.003048\n",
       "2016-01-11  0.037362  0.000070  0.000809  0.000226  0.002802\n",
       "2016-01-12  0.033541  0.000073  0.000883  0.000226  0.002908\n",
       "2016-01-13  0.041898  0.000054  0.000837  0.000221  0.002805\n",
       "2016-01-14  0.053980  0.000065  0.000943  0.000226  0.003099\n",
       "2016-01-15  0.033428  0.000075  0.000969  0.000247  0.003100\n",
       "2016-01-16  0.034951  0.000066  0.000953  0.000253  0.002887\n",
       "2016-01-17  0.025965  0.000088  0.001013  0.000254  0.002597\n",
       "2016-01-18  0.031887  0.000070  0.000731  0.000194  0.002482\n",
       "2016-01-19  0.053801  0.000075  0.000654  0.000188  0.002364\n",
       "2016-01-20  0.031468  0.000054  0.000866  0.000236  0.002825\n",
       "2016-01-21  0.032465  0.000065  0.000804  0.000225  0.002666\n",
       "2016-01-22  0.043442  0.000070  0.000771  0.000294  0.002351\n",
       "2016-01-23  0.049424  0.000064  0.000674  0.000174  0.002343\n",
       "2016-01-24  0.036143  0.000087  0.000702  0.000215  0.002009\n",
       "2016-01-25  0.054302  0.000072  0.000761  0.000263  0.002576\n",
       "2016-01-26  0.039911  0.000073  0.000738  0.000272  0.002229\n",
       "2016-01-27  0.034892  0.000055  0.000843  0.000286  0.002412\n",
       "2016-01-28  0.055472  0.000066  0.000917  0.000346  0.002485\n",
       "2016-01-29  0.035856  0.000071  0.000777  0.000242  0.002519\n",
       "2016-01-30  0.052527  0.000064  0.000958  0.000253  0.002836\n",
       "...              ...       ...       ...       ...       ...\n",
       "2016-12-01  0.041476  0.000065  0.000711  0.000242  0.002130\n",
       "2016-12-02  0.043319  0.000072  0.000703  0.000248  0.002133\n",
       "2016-12-03  0.163816  0.000064  0.018579  0.006834  0.021663\n",
       "2016-12-04  0.050348  0.000088  0.000888  0.000251  0.002491\n",
       "2016-12-05  0.042463  0.000072  0.000801  0.000245  0.002470\n",
       "2016-12-06  0.027676  0.000074  0.000686  0.000240  0.002034\n",
       "2016-12-07  0.039767  0.000053  0.000759  0.000254  0.002244\n",
       "2016-12-08  0.040500  0.000067  0.000735  0.000223  0.002285\n",
       "2016-12-09  0.053215  0.000071  0.000678  0.000207  0.002202\n",
       "2016-12-10  0.047930  0.000064  0.000741  0.000222  0.002557\n",
       "2016-12-11  0.044798  0.000088  0.000793  0.000233  0.002305\n",
       "2016-12-12  0.046901  0.000072  0.000699  0.000228  0.002302\n",
       "2016-12-13  0.039009  0.000072  0.000717  0.000227  0.002163\n",
       "2016-12-14  0.034249  0.000053  0.000762  0.000254  0.002307\n",
       "2016-12-15  0.043867  0.000065  0.000597  0.000200  0.001897\n",
       "2016-12-16  0.028757  0.000071  0.000719  0.000196  0.001950\n",
       "2016-12-17  0.034252  0.000064  0.000571  0.000201  0.001618\n",
       "2016-12-18  0.043825  0.000088  0.000871  0.000264  0.002308\n",
       "2016-12-19  0.036189  0.000071  0.000686  0.000211  0.002238\n",
       "2016-12-20  0.182518  0.000074  0.016429  0.000607  0.023484\n",
       "2016-12-21  0.034534  0.000063  0.002027  0.001753  0.002349\n",
       "2016-12-22  0.030624  0.000066  0.000650  0.000235  0.001906\n",
       "2016-12-23  0.043059  0.000071  0.000789  0.000241  0.002332\n",
       "2016-12-24  0.037202  0.000064  0.000643  0.000232  0.001815\n",
       "2016-12-25  0.293300  0.000091  0.006252  0.000245  0.022434\n",
       "2016-12-26  0.045477  0.000071  0.000748  0.000212  0.002301\n",
       "2016-12-27  0.026892  0.000075  0.000873  0.000255  0.002391\n",
       "2016-12-28  0.050666  0.000053  0.004167  0.004509  0.003088\n",
       "2016-12-29  0.041671  0.000066  0.000763  0.000243  0.002355\n",
       "2016-12-30  0.046198  0.000076  0.001084  0.000295  0.002864\n",
       "\n",
       "[365 rows x 5 columns]"
      ]
     },
     "execution_count": 122,
     "metadata": {},
     "output_type": "execute_result"
    }
   ],
   "source": [
    "df_error_date.reconstruction_error"
   ]
  },
  {
   "cell_type": "code",
   "execution_count": null,
   "metadata": {},
   "outputs": [],
   "source": [
    "#What are some things that are needed to do effective deep learning model training?\n",
    "#saving checkpoints\n",
    "# moving saved checkpoints from cloud machine to reliable storage (local or cloud)\n",
    "#hyperparameter optimization\n",
    "#Setting up a gpu environment\n",
    "#write out parameters in some sort of sensible way (yml)?\n"
   ]
  },
  {
   "cell_type": "code",
   "execution_count": 53,
   "metadata": {},
   "outputs": [
    {
     "data": {
      "text/plain": [
       "(0.02, 0.18)"
      ]
     },
     "execution_count": 53,
     "metadata": {},
     "output_type": "execute_result"
    },
    {
     "data": {
      "image/png": "[encoded data removed]",
      "text/plain": [
       "<Figure size 432x288 with 1 Axes>"
      ]
     },
     "metadata": {
      "needs_background": "light"
     },
     "output_type": "display_data"
    },
    {
     "data": {
      "image/png": "[encoded data removed]",
      "text/plain": [
       "<Figure size 432x288 with 1 Axes>"
      ]
     },
     "metadata": {
      "needs_background": "light"
     },
     "output_type": "display_data"
    }
   ],
   "source": [
    "df_error.groupby(['Label']).agg({'reconstruction_error':'min'}).apply(list).apply(pd.Series)\n",
    "plt.hist(df_error.reconstruction_error[df_error.Label==1],100)\n",
    "plt.yscale('log')\n",
    "plt.xlim([0.02,0.18])\n",
    "plt.figure()\n",
    "plt.hist(df_error.reconstruction_error[df_error.Label==0],100)\n",
    "plt.yscale('log')\n",
    "plt.xlim([0.02,0.18])\n"
   ]
  },
  {
   "cell_type": "code",
   "execution_count": null,
   "metadata": {},
   "outputs": [],
   "source": [
    "logger.info('Creating training dataset.')\n",
    "X_train, X_test, y_train = ad_311.make_train_test_data(full_raw_data, labels)\n",
    "\n",
    "print(len(X_train))\n",
    "logger.info('Training model.')\n",
    "best_model = ad_311.train_model(X_train, y_train, cv=3)\n",
    "print(best_model)\n",
    "feature_importances = pd.DataFrame(best_model.feature_importances_, index=X_train.columns, columns=['importance']).sort_values('importance', ascending=False)\n",
    "print(feature_importances)\n",
    "predictions = ad_311.make_predictions(best_model, X_train)\n",
    "print(predictions)\n",
    "predictions.to_csv('~/Research/data_gravity/predictions.csv')\n",
    "print(roc_auc_score(y_train, predictions))\n",
    "\n"
   ]
  },
  {
   "cell_type": "code",
   "execution_count": null,
   "metadata": {},
   "outputs": [],
   "source": [
    "df_features\n",
    "\n",
    "df_test = df_features.loc[df_features.chaos.isnull(), :].reset_index(drop=True)\n",
    "df_test\n",
    "\n",
    "df_test = df_features.loc[df_features.chaos.isnull(), :].reset_index(drop=True)\n",
    "X_train = df_train.fillna(0)[feature_cols]\n",
    "X_test = df_test.fillna(0)[feature_cols]\n",
    "y_train =df_train.chaos.tolist()\n"
   ]
  },
  {
   "cell_type": "code",
   "execution_count": null,
   "metadata": {},
   "outputs": [],
   "source": [
    "X = pd.concat([X_train, X_test]).reset_index(drop=True)"
   ]
  },
  {
   "cell_type": "code",
   "execution_count": null,
   "metadata": {},
   "outputs": [],
   "source": [
    "#plt.plot(results)\n",
    "print(len(X_train))\n",
    "logger.info('Training model.')\n",
    "best_model = ad_311.train_model(X_train, y_train, cv=3)\n",
    "print(best_model)\n",
    "feature_importances = pd.DataFrame(best_model.feature_importances_, index=X_train.columns, columns=['importance']).sort_values('importance', ascending=False)\n",
    "print(feature_importances)\n",
    "predictions = ad_311.make_predictions(best_model, X_train)\n",
    "print(predictions)\n",
    "predictions.to_csv('~/Research/data_gravity/predictions.csv')\n",
    "print(roc_auc_score(y_train, predictions))\n"
   ]
  },
  {
   "cell_type": "code",
   "execution_count": null,
   "metadata": {},
   "outputs": [],
   "source": [
    "X_test"
   ]
  },
  {
   "cell_type": "code",
   "execution_count": null,
   "metadata": {},
   "outputs": [],
   "source": [
    "base_distribution = (df_test.mean(axis=0))[1:]+.0000001\n",
    "base_distribution.values\n",
    "#entropy(df_agg.loc[0,:], base_distribution)\n",
    "#example_dist = df_agency.fillna(0).iloc[1,:].values\n",
    "#entropy(example_dist.values, base_distribution)\n",
    "\n",
    "def calculate_entropy(example_dist, base_dist=base_distribution):\n",
    "    return entropy(example_dist, base_distribution)\n",
    "\n",
    "out[out.date=='2017-08-18']\n",
    "example_dist=df_agency.loc['2017-08-18',:].values\n",
    "calculate_entropy(example_dist)\n",
    "df_agency.loc['2017-08-18',:]\n"
   ]
  },
  {
   "cell_type": "code",
   "execution_count": null,
   "metadata": {},
   "outputs": [],
   "source": [
    "#Deal with duplicate rows\n",
    "def make_duplicate_ratio(df):\n",
    "    df_dedup = df.drop_duplicates()\n",
    "    df_dedup = df_dedup.groupby(['date']).agg({'date':'count'}).apply(list).apply(pd.Series)\n",
    "    df_dup = df.groupby(['date']).agg({'date':'count'}).apply(list).apply(pd.Series)\n",
    "    df_out = df_dup\n",
    "    df_out['duplicate_ratio'] = list(df_dup['date'].values/df_dedup['date'])\n",
    "    df_out.drop('date',axis=1,inplace=True)\n",
    "    return df_out\n",
    "\n"
   ]
  },
  {
   "cell_type": "code",
   "execution_count": null,
   "metadata": {},
   "outputs": [],
   "source": [
    "def get_dropped_rows_metric(df, hour_bin_size=6):\n",
    "    print(df.columns)\n",
    "    df['hour_bins'] = np.floor(df.hour/hour_bin_size)\n",
    "    df_agg = df.groupby(['date', 'hour_bins']).agg({'hour_bins':'count'}).apply(list).apply(pd.Series)\n",
    "    df_agg = df_agg.unstack()\n",
    "    df_agg =    df_agg['hour_bins']\n",
    "    df_agg = df_agg.div(df_agg.sum(axis=1), axis=0)\n",
    "    \n",
    "    return df_agg\n",
    "\n",
    "#df_dropped['labels'] = list(labels.chaos)"
   ]
  },
  {
   "cell_type": "code",
   "execution_count": null,
   "metadata": {},
   "outputs": [],
   "source": [
    "def get_weekday(df):\n",
    "    out = pd.to_datetime(df.date).dt.dayofweek\n",
    "    out.index=df.date\n",
    "    out=pd.DataFrame((out<5).astype(int))\n",
    "    out.columns=['weekday']\n",
    "    return out\n",
    "\n"
   ]
  },
  {
   "cell_type": "code",
   "execution_count": null,
   "metadata": {},
   "outputs": [],
   "source": [
    "#Summarize the numerical data (lat, long, log(minutes_open))\n",
    "def summarize_numerical_feature(df, column):\n",
    "    df_num = df.fillna(0).groupby(['date']).agg({column:'mean'}).apply(list).apply(pd.Series)\n",
    "    df_num = pd.DataFrame(df_num[column])\n",
    "    return df_num\n"
   ]
  },
  {
   "cell_type": "code",
   "execution_count": null,
   "metadata": {},
   "outputs": [],
   "source": [
    "#Aggregate features\n",
    "df_count = out.groupby(['date','chaos']).agg({'date':'count'}).apply(list).apply(pd.Series)\n",
    "df_count.columns=['count']\n",
    "df_count = df_count.reset_index()\n",
    "df_agency = agg_feature(out,'agency_name')\n",
    "df_borough = agg_feature(out,'borough')\n",
    "df_complaint = agg_feature(out,'complaint_type')\n",
    "df_descriptor = agg_feature(out,'descriptor')\n",
    "df_location = agg_feature(out,'location_type')\n",
    "df_dayofweek = get_weekday(labels)\n",
    "\n",
    "df_dup = make_duplicate_ratio(out)\n",
    "\n",
    "df_dropped = dropped_rows_metric(out)\n",
    "\n",
    "df_long=summarize_numerical_feature(out, 'longitude')\n",
    "df_lat=summarize_numerical_feature(out, 'latitude')\n",
    "df_log_min=summarize_numerical_feature(out, 'log_minutes')\n",
    "\n",
    "df_full=pd.merge(df_count, df_agency, on ='date')\n",
    "df_full=pd.merge(df_full, df_borough, on ='date')\n",
    "df_full=pd.merge(df_full, df_complaint, on ='date')\n",
    "df_full=pd.merge(df_full, df_descriptor, on ='date')\n",
    "df_full=pd.merge(df_full, df_location, on ='date')\n",
    "\n",
    "df_full=pd.merge(df_full, df_dup, on ='date')\n",
    "\n",
    "df_full=pd.merge(df_full, df_dropped, on ='date')\n",
    "\n",
    "\n",
    "df_full=pd.merge(df_full, df_dayofweek, on ='date')\n",
    "\n",
    "df_full=pd.merge(df_full, df_long, on ='date')\n",
    "df_full=pd.merge(df_full, df_lat, on ='date')\n",
    "df_full=pd.merge(df_full, df_log_min, on ='date')\n",
    "\n",
    "df_full = df_full.fillna(0)\n"
   ]
  },
  {
   "cell_type": "code",
   "execution_count": null,
   "metadata": {},
   "outputs": [],
   "source": [
    "df_full.columns\n"
   ]
  },
  {
   "cell_type": "code",
   "execution_count": null,
   "metadata": {},
   "outputs": [],
   "source": [
    "#Prep training data\n",
    "train_cols = list(df_full.columns)\n",
    "train_cols.remove('chaos')\n",
    "train_cols.remove('date')\n"
   ]
  },
  {
   "cell_type": "code",
   "execution_count": null,
   "metadata": {},
   "outputs": [],
   "source": [
    "#Feature selection\n",
    "\n",
    "from sklearn.feature_selection import SelectKBest\n",
    "from sklearn.feature_selection import chi2, mutual_info_classif\n",
    "\n",
    "X_train=df_full.loc[0:150, train_cols]\n",
    "y_train=df_full.chaos.astype(int)[0:151]\n",
    "X_test=df_full.loc[150:, train_cols]\n",
    "y_test=df_full.chaos.astype(int)[151:]\n",
    "print(X_train.shape)\n",
    "feature_selection_model = SelectKBest(mutual_info_classif, k=20)\n",
    "X_train_new = feature_selection_model.fit_transform(X_train, y_train)\n",
    "X_train_new.shape\n",
    "\n",
    "#For regression: f_regression, mutual_info_regression\n",
    "#For classification: chi2, f_classif, mutual_info_classif\n",
    "features = pd.DataFrame(X_train.columns,feature_selection_model.get_support())\n",
    "features.to_csv('/Users/jkchandalia/Research/data_gravity/feature_selection.csv')\n",
    "\n",
    "from sklearn.ensemble import ExtraTreesClassifier\n",
    "from sklearn.feature_selection import SelectFromModel\n",
    "clf = ExtraTreesClassifier(n_estimators=40)\n",
    "clf = clf.fit(X_train, y_train)\n",
    "print(clf.feature_importances_)\n",
    "model = SelectFromModel(clf, prefit=True)\n",
    "X_train_new = model.transform(X_train)\n",
    "X_test_new = model.transform(X_test)\n",
    "X_train_new.shape               \n",
    "plt.hist(clf.feature_importances_,100)\n",
    "pd.DataFrame(X_train.columns,clf.feature_importances_).to_csv('/Users/jkchandalia/Research/data_gravity/features_tree.csv')\n",
    "\n",
    "\n",
    "#Do more exploration that is dataviz or whatnot for feature selection (use first half of data, if that's true)"
   ]
  },
  {
   "cell_type": "code",
   "execution_count": null,
   "metadata": {},
   "outputs": [],
   "source": [
    "#Train model and make predictions\n",
    "from sklearn.ensemble import RandomForestClassifier\n",
    "from sklearn.datasets import make_classification\n",
    "clf = RandomForestClassifier(n_estimators=100,  random_state=0)\n",
    "clf.fit(X_train_new, y_train)\n",
    "print(clf.feature_importances_)\n",
    "print(clf.predict_proba(X_test_new)[:,1])\n",
    "output=pd.DataFrame(clf.predict_proba(X_test_new)[:,1])\n",
    "output[1]=list(labels.chaos[271:365].astype(int))\n",
    "print(sum(output[0]==output[1]))\n",
    "print(len(output))\n",
    "output.to_csv('/Users/jkchandalia/Research/data_gravity/pred.csv')\n"
   ]
  },
  {
   "cell_type": "code",
   "execution_count": null,
   "metadata": {},
   "outputs": [],
   "source": [
    "#Maybe test if a distribution is categorical or numerical? If numerical, test if normal or lognormal\n",
    "\n",
    "features\n",
    "\n"
   ]
  },
  {
   "cell_type": "code",
   "execution_count": null,
   "metadata": {},
   "outputs": [],
   "source": [
    "df_log_min = out.groupby(['date']).agg({'log_min_open':'mean'}).apply(list).apply(pd.Series)\n",
    "df_log_min['labels']=list(labels.chaos)\n",
    "df_log_min.to_csv('/Users/jkchandalia/Research/data_gravity/min.csv')\n",
    "\n",
    "df_log_min\n",
    "\n",
    "plt.hist(np.log(out[out.date_string=='2016-09-09'].minutes_open+.000001),100)\n",
    "\n",
    "plt.hist(df_lat.latitude,100)\n",
    "\n",
    "plt.plot(np.cumsum(feature_sums).values/sum(feature_sums))\n",
    "plt.xlim([0,20])\n",
    "\n",
    "\n",
    "df_agency['labels']= list(labels.chaos)\n",
    "df_agency.to_csv('/Users/jkchandalia/Research/data_gravity/df_agency.csv')\n",
    "\n",
    "df_borough['labels']= list(labels.chaos)\n",
    "df_borough.to_csv('/Users/jkchandalia/Research/data_gravity/df_borough.csv')\n",
    "\n",
    "df_complaint['labels']= list(labels.chaos)\n",
    "df_complaint.to_csv('/Users/jkchandalia/Research/data_gravity/df_complaint.csv')\n",
    "\n",
    "df_descriptor['labels']= list(labels.chaos)\n",
    "df_descriptor.to_csv('/Users/jkchandalia/Research/data_gravity/df_descriptor.csv')\n",
    "\n",
    "df_location['labels']= list(labels.chaos)\n",
    "df_location.to_csv('/Users/jkchandalia/Research/data_gravity/df_location.csv')\n",
    "\n",
    "\n",
    "other_cols = set(df_borough['borough'].columns)-set(['BRONX',\n",
    " 'BROOKLYN',\n",
    " 'MANHATTAN',\n",
    " 'QUEENS',\n",
    " 'STATEN ISLAND','no_borough','Unspecified'])\n",
    "\n",
    "other_cols = list(other_cols)\n",
    "plt.hist(df_borough['borough'][other_cols].sum(axis=1),100)\n",
    "df_full.fillna(0)"
   ]
  },
  {
   "cell_type": "code",
   "execution_count": null,
   "metadata": {},
   "outputs": [],
   "source": [
    "print(df_full.columns)\n",
    "#df1.div(df2.iloc[0], axis='columns')\n",
    "counts = df_full['count']\n",
    "print(counts)\n",
    "df_heatmap = df_full[['New York City Police Department',\n",
    "       'Department of Housing Preservation and Development',\n",
    "       'Department of Transportation',\n",
    "       'Department of Environmental Protection', 'Department of Buildings',\n",
    "       'Department of Parks and Recreation',\n",
    "       'Department of Health and Mental Hygiene', 'Department of Sanitation',\n",
    "       'Operations Unit - Department of Homeless Services',\n",
    "       'Department of Finance']].div(counts, axis=0)\n",
    "\n",
    "\n",
    "\n",
    "df_heatmap['label'] = df_full.chaos.astype(int)\n",
    "df_heatmap = df_heatmap[['label','New York City Police Department',\n",
    "       'Department of Housing Preservation and Development',\n",
    "       'Department of Transportation',\n",
    "       'Department of Environmental Protection', 'Department of Buildings',\n",
    "       'Department of Parks and Recreation',\n",
    "       'Department of Health and Mental Hygiene', 'Department of Sanitation',\n",
    "       'Operations Unit - Department of Homeless Services',\n",
    "       'Department of Finance']]\n",
    "plt.figure()\n",
    "plt.pcolor(df_heatmap)\n",
    "#plt.yticks(np.arange(0.5, len(df.index), 1), df.index)\n",
    "#plt.xticks(np.arange(0.5, len(df.columns), 1), df.columns)\n",
    "plt.show()\n"
   ]
  },
  {
   "cell_type": "code",
   "execution_count": null,
   "metadata": {},
   "outputs": [],
   "source": [
    "#at least for duplicates, don't see a difference between 1st and second half\n",
    "\n",
    "#investigate duplicates in first half vs second half for those with significant duplicates\n",
    "#df_dedup\n",
    "#df_dup['date'].values/df_dedup['date'].values\n",
    "first_day = out[out.date_string=='2016-11-11']\n",
    "first_day_dedup = first_day.drop_duplicates()\n",
    "df_dedup = first_day_dedup.groupby(['4hours']).agg({'4hours':'count'}).apply(list).apply(pd.Series)\n",
    "df_dup = first_day.groupby(['4hours']).agg({'4hours':'count'}).apply(list).apply(pd.Series)\n",
    "print(df_dup['4hours'].values/df_dedup['4hours'].values)\n",
    "print(df_dedup)\n",
    "print(df_dup)\n",
    "\n",
    "df_dedup['ratio'] = df_dup['date'].values/df_dedup['date']\n",
    "df_dedup['labels'] = list(labels.chaos)\n",
    "\n",
    "df_dedup.to_csv('/Users/jkchandalia/Research/data_gravity/dup_ratio.csv')\n",
    "df_dedup\n",
    "\n"
   ]
  },
  {
   "cell_type": "code",
   "execution_count": null,
   "metadata": {},
   "outputs": [],
   "source": [
    "out['12hours'] = np.floor(out.hour/12)\n",
    "\n",
    "#Deal with dropped rows\n",
    "df_dropout = out.groupby(['date', '12hours']).agg({'12hours':'count'}).apply(list).apply(pd.Series)\n",
    "df_counts = df_dropout.unstack()['12hours']\n",
    "df_counts = df_counts.div(list(df_counts.sum(axis=1)), axis=0)\n",
    "\n",
    "plt.figure()\n",
    "plt.pcolor(df_counts)\n",
    "#plt.yticks(np.arange(0.5, len(df.index), 1), df.index)\n",
    "#plt.xticks(np.arange(0.5, len(df.columns), 1), df.columns)\n",
    "plt.show()"
   ]
  },
  {
   "cell_type": "code",
   "execution_count": null,
   "metadata": {},
   "outputs": [],
   "source": [
    "plt.figure()\n",
    "plt.pcolor(df_counts)\n",
    "#plt.yticks(np.arange(0.5, len(df.index), 1), df.index)\n",
    "#plt.xticks(np.arange(0.5, len(df.columns), 1), df.columns)\n",
    "plt.show()"
   ]
  },
  {
   "cell_type": "code",
   "execution_count": null,
   "metadata": {},
   "outputs": [],
   "source": [
    "df_counts.to_csv('/Users/jkchandalia/Research/data_gravity/dropped.csv')\n",
    "print(out.columns)\n",
    "agg_feature(out,'complaint_type')\n",
    "\n",
    "test_set_dates = list(labels[270:365].date)\n",
    "\n",
    "out.columns\n",
    "out.fillna(0).groupby(['date']).agg({'latitude':['mean','max','min','median']})\n",
    "get percent NA for numerial data\n",
    "\n",
    "out.fillna(0).groupby(['date']).agg({'latitude':['mean','max','min','median']})\n",
    "\n",
    "df_full.columns\n",
    "null_other = ['no_agency_name', 'other_agency_name', 'no_borough', 'other_borough','no_complaint_type',\n",
    "       'other_complaint_type', 'no_location_type', 'other_location_type']\n",
    "df_null_other = df_full[null_other]\n",
    "df_null_other['labels'] = list(labels.chaos[0:365].astype(int))\n",
    "df_null_other.to_csv('/Users/jkchandalia/Research/data_gravity/null_other.csv')"
   ]
  },
  {
   "cell_type": "code",
   "execution_count": null,
   "metadata": {},
   "outputs": [],
   "source": [
    "#Steps:\n",
    "'''\n",
    "\n",
    "operations could have applied to a specific column (distribution change, null values, etc.) \n",
    "or to a subset of rows (dropped / added rows, etc.).\n",
    "bin the created_date? and dedup by day? So don't look at combos of columns for now. \n",
    "\n",
    "1. make created_date a date_time object, make a separate date only column for ease of joins?\n",
    "2. make separate test and train sets\n",
    "3. add label for train data\n",
    "Features:\n",
    "day of week\n",
    "distribution of created_date over day, might need to bin\n",
    "distribution of minutes_open, latitude, longitude over the day, might need to bin\n",
    "percentages of agency_name, borough, complaint_type, descriptor, location type for day\n",
    "After this, look at feature combos to further look for chaos. \n",
    "\n",
    "Further steps:\n",
    "detrending over day,week,month,year scales\n",
    "nlp to reduce long tail of entries by aggregating appropriately, eg, different types of rodents (rats, mouse) grouped together\n",
    "different lookback windows for training set\n",
    "\n",
    "'''\n",
    "So, I dont think there distribution changes relative to each other. or im not looking for those anyway\n",
    "\n",
    "Ok, so way to get first level aggregates. \n",
    "\n",
    "to classify, either take output of discrete distribution test. or.... \n",
    "\n",
    "For summaries, need a nan and other column. \n",
    "point, contextual, collective anomalies\n",
    "duplicates, dropped rows\n",
    "distribution changes, null values, etc.\n",
    "\n",
    "For each day, come up with a row of features, just a first cut. just count. and then the top ten agency percentages. \n",
    "\n",
    "1. munge data into something appropriate \n",
    "(discrete distributions: percentages/counts, continuous distributions, binned data)\n",
    "\n",
    "'''\n",
    "Layers of features\n",
    "1. pure count\n",
    "2. 1st level aggregations with a cutoff\n",
    "3. second level aggregations with a cutoff'''\n",
    "\n",
    "Feature selection, formally (chi square and/or others) and informally\n",
    "formalize visualization and maybe sort data?\n",
    "\n",
    "\n",
    "Look for duplicates first\n",
    "Try to look for dropped rows (assume bin by time)\n",
    "Now look for added null (or other?) values in each var\n",
    "\n",
    "What are potential features for anomaly detection:\n",
    "    1. duplication ratio\n",
    "    2. Changes in null fraction for various variables\n",
    "    3. Changes in other fraction for various variables\n",
    "    4. mean, min, max, mode of lat,long, log(minutes_open)\n",
    "    5. Changes in fraction of main subsets of categorical variables\n",
    "    6. dual relationships between datasets\n",
    "    \n",
    "Get a dataset with the %null values of each column and %other in each column\n"
   ]
  },
  {
   "cell_type": "code",
   "execution_count": null,
   "metadata": {},
   "outputs": [],
   "source": [
    "class Anomaly_Detector:\n",
    "    def __init__(self, data_path, labels_path, output_path):\n",
    "        self.data_path = data_path\n",
    "        self.labels_path = labels_path\n",
    "        self.output_path = output_path\n",
    "        self.raw_data = pd.read_csv(data_path)\n",
    "        self.labels = pd.read_csv(labels_path)\n",
    "        self.X = None\n",
    "        self.y = None\n",
    "        self.X_train = None\n",
    "        self.X_test = None\n",
    "\n",
    "    def prep_311_data(self, df, labels):\n",
    "        \"\"\"Read in raw 311 data, parse date, and join with labels.\"\"\"\n",
    "        dates = list(df['created_date'])\n",
    "        date_strings = []\n",
    "        new_dates = []\n",
    "        for date in dates:\n",
    "            new_dates.append(date.split('+')[0])\n",
    "            date_strings.append(date.split(' ')[0])\n",
    "\n",
    "        df['created_date'] = new_dates\n",
    "        df['created_date_timestamp'] = pd.to_datetime(df['created_date'])\n",
    "        df['date_string'] = date_strings\n",
    "        df['hour'] = df.created_date_timestamp.dt.hour\n",
    "        df['log_minutes'] = np.log(df.minutes_open + 0.00001)\n",
    "\n",
    "        df_out = pd.merge(df, labels, left_on='date_string', right_on='date')\n",
    "\n",
    "        return df_out\n",
    "\n",
    "    def aggregate_categorical_feature(self, df, raw_feature, cutoff=0.9, num_features=10):\n",
    "        \"\"\"Aggregate categorical data (including null/other) for df[column] with optional cutoffs.\"\"\"\n",
    "        df_agg = df.fillna('no_' + raw_feature).groupby(['date', raw_feature]).agg({raw_feature: 'count'}).apply(list).apply(pd.Series)\n",
    "        df_agg = df_agg.unstack()\n",
    "\n",
    "        feature_sums = df_agg.sum(axis=0).sort_values(ascending=False)\n",
    "        percentile90 = np.where(np.cumsum(feature_sums).values / sum(feature_sums) > cutoff)[0][0] + 1\n",
    "        max_features = min(percentile90, num_features)\n",
    "        cols = list(feature_sums[0:max_features][raw_feature].index)\n",
    "        # if 'no_' + raw_feature not in cols:\n",
    "        #     cols.append('no_' + raw_feature)\n",
    "\n",
    "        other_cols = list(set(df_agg[raw_feature].columns) - set(cols))\n",
    "        other_values = df_agg[raw_feature][other_cols].sum(axis=1)\n",
    "        df_agg = df_agg[raw_feature][cols]\n",
    "        df_agg['other_' + raw_feature] = other_values\n",
    "        df_agg = df_agg.div(df_agg.sum(axis=1), axis=0)\n",
    "\n",
    "        # Calculate entropy metric associated with the categorical variables\n",
    "        df_chaos = df.groupby(['date']).agg({'chaos': 'min'}).apply(list).apply(pd.Series)\n",
    "\n",
    "        df_entropy = pd.merge(df_chaos, df_agg, on='date')\n",
    "        df_base_dist = df_entropy[df_entropy.chaos == False].fillna(0)\n",
    "\n",
    "        base_distribution = (df_base_dist.mean(axis=0))[1:] + 0.000001\n",
    "\n",
    "        def calculate_entropy(example_dist, base_dist=base_distribution):\n",
    "            return entropy(example_dist, base_dist)\n",
    "\n",
    "        df_agg = df_agg.fillna(0)\n",
    "        entropy_metric = df_agg.apply(calculate_entropy, axis=1)\n",
    "        df_agg['entropy_metric_' + raw_feature] = entropy_metric\n",
    "\n",
    "        return df_agg\n",
    "\n",
    "    def make_duplicate_ratio(self, df):\n",
    "        \"\"\"Output a ratio of (# of records)/(deduped # of records).\"\"\"\n",
    "        df_dedup = df.drop_duplicates()\n",
    "        df_dedup = df_dedup.groupby(['date']).agg({'date': 'count'}).apply(list).apply(pd.Series)\n",
    "        df_dup = df.groupby(['date']).agg({'date': 'count'}).apply(list).apply(pd.Series)\n",
    "        df_out = df_dup\n",
    "        df_out['duplicate_ratio'] = list(df_dup['date'].values / df_dedup['date'])\n",
    "        df_out.drop('date', axis=1, inplace=True)\n",
    "        return df_out\n",
    "\n",
    "    def get_dropped_rows_metric(self, df, hour_bin_size=6):\n",
    "        \"\"\"Output the fraction of records in each bin throughout the day.\"\"\"\n",
    "        df['hour_bins'] = np.floor(df.hour / hour_bin_size)\n",
    "        df_agg = df.groupby(['date', 'hour_bins']).agg({'hour_bins': 'count'}).apply(list).apply(pd.Series)\n",
    "        df_agg = df_agg.unstack()\n",
    "        df_agg = df_agg['hour_bins']\n",
    "        df_agg = df_agg.div(df_agg.sum(axis=1), axis=0)\n",
    "\n",
    "        # Try mutual entropy here?\n",
    "\n",
    "        return df_agg\n",
    "\n",
    "    def get_weekday(self, df):\n",
    "        \"\"\"Output True if a weekday, else False.\"\"\"\n",
    "        df_out = pd.to_datetime(df.date).dt.dayofweek\n",
    "        df_out.index = df.date\n",
    "        df_out = pd.DataFrame((df_out < 5).astype(int))\n",
    "        df_out.columns = ['weekday']\n",
    "        return df_out\n",
    "\n",
    "    def summarize_numerical_feature(self, df, column):\n",
    "        \"\"\"Output mean of numerical data in df[column].\"\"\"\n",
    "        df_out = df.fillna(0).groupby(['date']).agg({column: 'mean'}).apply(list).apply(pd.Series)\n",
    "        df_out = pd.DataFrame(df_out[column])\n",
    "\n",
    "        #Try mutual entropy here?\n",
    "        return df_out\n",
    "\n",
    "    def make_train_test_data(self, df, labels):\n",
    "        \"\"\"Turn raw data into features and produce test and train datasets.\"\"\"\n",
    "        df_count = df.groupby(['date']).agg({'date': 'count'}).apply(list).apply(pd.Series)\n",
    "        df_count.columns = ['count']\n",
    "        df_count = df_count.reset_index()\n",
    "        df_chaos = df.groupby(['date']).agg({'chaos': 'min'}).apply(list).apply(pd.Series)\n",
    "\n",
    "        logger.info('Creating categorical features.')\n",
    "        df_agency = self.aggregate_categorical_feature(df, 'agency_name')\n",
    "        df_borough = self.aggregate_categorical_feature(df, 'borough')\n",
    "        df_complaint = self.aggregate_categorical_feature(df, 'complaint_type')\n",
    "        df_descriptor = self.aggregate_categorical_feature(df, 'descriptor')\n",
    "        df_location = self.aggregate_categorical_feature(df, 'location_type')\n",
    "        df_dayofweek = self.get_weekday(labels)\n",
    "\n",
    "        logger.info('Creating numerical features.')\n",
    "        df_dup = self.make_duplicate_ratio(df)\n",
    "        df_dropped = self.get_dropped_rows_metric(df)\n",
    "        df_long = self.summarize_numerical_feature(df, 'longitude')\n",
    "        df_lat = self.summarize_numerical_feature(df, 'latitude')\n",
    "        df_log_min = self.summarize_numerical_feature(df, 'log_minutes')\n",
    "\n",
    "        logger.info('Aggregating numerical features.')\n",
    "        df_features = pd.merge(df_count, df_chaos, on='date')\n",
    "        df_features = pd.merge(df_features, df_agency, on='date')\n",
    "        df_features = pd.merge(df_features, df_borough, on='date')\n",
    "        df_features = pd.merge(df_features, df_complaint, on='date')\n",
    "        df_features = pd.merge(df_features, df_descriptor, on='date')\n",
    "        df_features = pd.merge(df_features, df_location, on='date')\n",
    "        df_features = pd.merge(df_features, df_dup, on='date')\n",
    "        df_features = pd.merge(df_features, df_dropped, on='date')\n",
    "        df_features = pd.merge(df_features, df_dayofweek, on='date')\n",
    "        df_features = pd.merge(df_features, df_long, on='date')\n",
    "        df_features = pd.merge(df_features, df_lat, on='date')\n",
    "        df_features = pd.merge(df_features, df_log_min, on='date')\n",
    "\n",
    "        # Prep featuresing data\n",
    "        feature_cols = list(df_features.columns)\n",
    "        feature_cols.remove('chaos')\n",
    "        feature_cols.remove('date')\n",
    "\n",
    "        feature_cols = new_train_columns = [                                             'count',\n",
    "                               'entropy_metric_agency_name',\n",
    "                                   'entropy_metric_borough',\n",
    "                            'entropy_metric_complaint_type',\n",
    "                                'entropy_metric_descriptor',\n",
    "                             'entropy_metric_location_type',\n",
    "                                          'duplicate_ratio',\n",
    "                                                        0.0,\n",
    "                                                        1.0,\n",
    "                                                        2.0,\n",
    "                                                        3.0,\n",
    "                                                  'weekday',\n",
    "                                                'longitude',\n",
    "                                                 'latitude',\n",
    "                                              'log_minutes']\n",
    "\n",
    "        df_train = df_features.dropna(subset=['chaos'])\n",
    "        df_test = df_features.loc[df.chaos.isnull(), :].reset_index(drop=True)\n",
    "        X_train = df_train.fillna(0)[feature_cols]\n",
    "        X_test = df_test.fillna(0)[feature_cols]\n",
    "        y_train =df_train.chaos.tolist()\n",
    "\n",
    "        return X_train, X_test, y_train\n",
    "\n",
    "    def select_features(self, X_train, y_train):\n",
    "        \"\"\"Use univariate and tree-based methods to do feature selection.\"\"\"\n",
    "\n",
    "        # Univariate feature selection\n",
    "        feature_selection_model = SelectKBest(mutual_info_classif, k=20)\n",
    "        X_train_new = feature_selection_model.fit_transform(X_train, y_train)\n",
    "\n",
    "        features = pd.DataFrame(X_train.columns, feature_selection_model.get_support())\n",
    "\n",
    "        # Tree-based feature selection\n",
    "        clf = ExtraTreesClassifier(n_estimators=40)\n",
    "        clf = clf.fit(X_train, y_train)\n",
    "        print(clf.feature_importances_)\n",
    "        model = SelectFromModel(clf, prefit=True)\n",
    "        X_train_new = model.transform(X_train)\n",
    "        X_test_new = model.transform(X_test)\n",
    "        plt.hist(clf.feature_importances_, 100)\n",
    "        pd.DataFrame(X_train.columns, clf.feature_importances_)\n",
    "\n",
    "        return X_train_new\n",
    "\n",
    "    def train_model(self, X_train, y_train, cv=2):\n",
    "        \"\"\"Train a random forest model using random search in parameter space and return best model.\"\"\"\n",
    "        # Number of trees in random forest\n",
    "        n_estimators = [10] #int(x) for x in np.linspace(start=100, stop=300, num=100)]\n",
    "        # Number of features to consider at every split\n",
    "        max_features = ['auto', 'sqrt']\n",
    "        # Maximum number of levels in tree\n",
    "        max_depth = [int(x) for x in np.linspace(3, 20, num=5)]\n",
    "        max_depth.append(None)\n",
    "        # Minimum number of samples required to split a node\n",
    "        min_samples_split = [2, 4]\n",
    "        # Minimum number of samples required at each leaf node\n",
    "        min_samples_leaf = [1, 2]\n",
    "        # Method of selecting samples for training each tree\n",
    "        bootstrap = [True, False]\n",
    "        # Create the random grid\n",
    "        random_grid = {'n_estimators': n_estimators,\n",
    "                       'max_features': max_features,\n",
    "                       'max_depth': max_depth,\n",
    "                       'min_samples_split': min_samples_split,\n",
    "                       'min_samples_leaf': min_samples_leaf,\n",
    "                       'bootstrap': bootstrap}\n",
    "\n",
    "        model = RandomForestClassifier(random_state=0)\n",
    "        rf_random = RandomizedSearchCV(estimator=model, param_distributions=random_grid, n_iter=5, cv=cv, verbose=2,\n",
    "                                       random_state=42, n_jobs=-1, scoring='roc_auc')\n",
    "        rf_random.fit(X_train, y_train)\n",
    "        best_random = rf_random.best_estimator_\n",
    "        best_random.fit(X_train, y_train)\n",
    "\n",
    "        return best_random\n",
    "\n",
    "    def make_predictions(self, model, X):\n",
    "\n",
    "        # Train model and make predictions\n",
    "\n",
    "        output = pd.DataFrame(model.predict_proba(X)[:, 1])\n",
    "\n",
    "        return output\n",
    "\n",
    "    # Do more exploration that is dataviz or whatnot for feature selection (use first half of data, if that's true)\n",
    "    def visualize_categorical_data(self, column, labels=None):\n",
    "        df_heatmap = df_full[['New York City Police Department',\n",
    "                              'Department of Housing Preservation and Development',\n",
    "                              'Department of Transportation',\n",
    "                              'Department of Environmental Protection', 'Department of Buildings',\n",
    "                              'Department of Parks and Recreation',\n",
    "                              'Department of Health and Mental Hygiene', 'Department of Sanitation',\n",
    "                              'Operations Unit - Department of Homeless Services',\n",
    "                              'Department of Finance']].div(counts, axis=0)\n",
    "\n",
    "        df_heatmap['label'] = df_full.chaos.astype(int)\n",
    "        df_heatmap = df_heatmap[['label', 'New York City Police Department',\n",
    "                                 'Department of Housing Preservation and Development',\n",
    "                                 'Department of Transportation',\n",
    "                                 'Department of Environmental Protection', 'Department of Buildings',\n",
    "                                 'Department of Parks and Recreation',\n",
    "                                 'Department of Health and Mental Hygiene', 'Department of Sanitation',\n",
    "                                 'Operations Unit - Department of Homeless Services',\n",
    "                                 'Department of Finance']]\n",
    "        plt.figure()\n",
    "        plt.pcolor(df_heatmap)\n",
    "        plt.show()\n",
    "\n",
    "    def visualize_numerical_data(self):\n",
    "        pass\n",
    "\n"
   ]
  },
  {
   "cell_type": "code",
   "execution_count": null,
   "metadata": {},
   "outputs": [],
   "source": [
    "out['chaos'].isnull()\n",
    "df_train_raw = out.dropna(subset=['chaos'])"
   ]
  },
  {
   "cell_type": "code",
   "execution_count": null,
   "metadata": {},
   "outputs": [],
   "source": [
    "out.ix[out['chaos'].isnull(),:]"
   ]
  },
  {
   "cell_type": "code",
   "execution_count": null,
   "metadata": {},
   "outputs": [],
   "source": [
    "out.loc[cout.chaos.isnull()==True,:]\n"
   ]
  },
  {
   "cell_type": "code",
   "execution_count": null,
   "metadata": {},
   "outputs": [],
   "source": [
    "out.loc[[True, False, True],:]\n"
   ]
  },
  {
   "cell_type": "code",
   "execution_count": null,
   "metadata": {},
   "outputs": [],
   "source": [
    "out.chaos.isnull().tolist()[-10:]"
   ]
  },
  {
   "cell_type": "code",
   "execution_count": null,
   "metadata": {},
   "outputs": [],
   "source": [
    "#out.loc[out.chaos.isnull(),:]\n",
    "out.chaos[not(out.chaos.isnull())]\n",
    "\n"
   ]
  },
  {
   "cell_type": "code",
   "execution_count": null,
   "metadata": {},
   "outputs": [],
   "source": [
    "len(out)"
   ]
  },
  {
   "cell_type": "code",
   "execution_count": null,
   "metadata": {},
   "outputs": [],
   "source": [
    "df_full"
   ]
  },
  {
   "cell_type": "code",
   "execution_count": null,
   "metadata": {},
   "outputs": [],
   "source": [
    "out"
   ]
  },
  {
   "cell_type": "code",
   "execution_count": null,
   "metadata": {},
   "outputs": [],
   "source": []
  }
 ],
 "metadata": {
  "kernelspec": {
   "display_name": "Python 3",
   "language": "python",
   "name": "python3"
  },
  "language_info": {
   "codemirror_mode": {
    "name": "ipython",
    "version": 3
   },
   "file_extension": ".py",
   "mimetype": "text/x-python",
   "name": "python",
   "nbconvert_exporter": "python",
   "pygments_lexer": "ipython3",
   "version": "3.6.7"
  }
 },
 "nbformat": 4,
 "nbformat_minor": 2
}
